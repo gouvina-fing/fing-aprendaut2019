{
 "cells": [
  {
   "cell_type": "code",
   "execution_count": 1,
   "metadata": {
    "scrolled": false
   },
   "outputs": [
    {
     "data": {
      "text/html": [
       "<h1 style=\"text-align: center;\">Seleccione un caso para visualizar de la botonera</h1>"
      ],
      "text/plain": [
       "<IPython.core.display.HTML object>"
      ]
     },
     "metadata": {},
     "output_type": "display_data"
    },
    {
     "name": "stdout",
     "output_type": "stream",
     "text": [
      "\n",
      "Descripción: Arbol del conjunto Iris, Ganancia como medida, atributos continuos partiendo en intervalos fijos. Validación cruzada .\n",
      "\n"
     ]
    },
    {
     "data": {
      "text/html": [
       "<p><strong>Accuracy</strong>: 0.8733333333333334</p>"
      ],
      "text/plain": [
       "<IPython.core.display.HTML object>"
      ]
     },
     "metadata": {},
     "output_type": "display_data"
    },
    {
     "data": {
      "text/html": [
       "         <div>           <style type=\"text/css\">           .tg  {border-collapse:collapse;border-spacing:0;}           .tg td{font-family:Arial, sans-serif;font-size:14px;padding:10px 5px;border-style:solid;border-width:1px;overflow:hidden;word-break:normal;border-color:black;}           .tg th{font-family:Arial, sans-serif;font-size:14px;font-weight:normal;padding:10px 5px;border-style:solid;border-width:1px;overflow:hidden;word-break:normal;border-color:black;}           .tg .tg-0pky{border-color:inherit;text-align:left;vertical-align:top}           </style>           <table class=\"tg\">             <tr>               <th class=\"tg-0pky\"><strong>Precision mean</strong></th>               <th class=\"tg-0pky\"><strong>Recall mean</strong></th>               <th class=\"tg-0pky\"><strong>Fall-off mean</strong></th>               <th class=\"tg-0pky\"><strong>F-Measure mean</strong></th>             </tr>             <tr>               <td class=\"tg-0pky\">0.8842328042328041</td>               <td class=\"tg-0pky\">0.8891269841269841</td>               <td class=\"tg-0pky\">0.05995615495615496</td>               <td class=\"tg-0pky\">0.8734908011378598</td>             </tr>           </table>         </div>"
      ],
      "text/plain": [
       "<IPython.core.display.HTML object>"
      ]
     },
     "metadata": {},
     "output_type": "display_data"
    },
    {
     "data": {
      "text/html": [
       "         <div>           <style type=\"text/css\">           .tg  {border-collapse:collapse;border-spacing:0;}           .tg td{font-family:Arial, sans-serif;font-size:14px;padding:10px 5px;border-style:solid;border-width:1px;overflow:hidden;word-break:normal;border-color:black;}           .tg th{font-family:Arial, sans-serif;font-size:14px;font-weight:normal;padding:10px 5px;border-style:solid;border-width:1px;overflow:hidden;word-break:normal;border-color:black;}           .tg .tg-0pky{border-color:inherit;text-align:left;vertical-align:top}           </style>           <table class=\"tg\">             <tr>               <th class=\"tg-0pky\"><strong>Precision weighted mean</strong></th>               <th class=\"tg-0pky\"><strong>Recall weighted mean</strong></th>               <th class=\"tg-0pky\"><strong>Fall-off weighted mean</strong></th>               <th class=\"tg-0pky\"><strong>F-Measure weighted mean</strong></th>             </tr>             <tr>               <td class=\"tg-0pky\">0.8983280423280424</td>               <td class=\"tg-0pky\">0.8733333333333334</td>               <td class=\"tg-0pky\">0.060328449328449316</td>               <td class=\"tg-0pky\">0.8753761576114517</td>             </tr>           </table>         </div>"
      ],
      "text/plain": [
       "<IPython.core.display.HTML object>"
      ]
     },
     "metadata": {},
     "output_type": "display_data"
    },
    {
     "data": {
      "text/html": [
       "<h2>Métricas</h2>"
      ],
      "text/plain": [
       "<IPython.core.display.HTML object>"
      ]
     },
     "metadata": {},
     "output_type": "display_data"
    },
    {
     "data": {
      "text/html": [
       "<table>\n",
       "<tbody>\n",
       "<tr><td>X         </td><td>Precision         </td><td>Recall            </td><td>Fall-off            </td><td>F-Measure         </td></tr>\n",
       "<tr><td>Setosa    </td><td>0.943888888888889 </td><td>0.9514285714285714</td><td>0.0455988455988456  </td><td>0.9442031171442936</td></tr>\n",
       "<tr><td>Versicolor</td><td>0.8190476190476191</td><td>0.8061904761904761</td><td>0.07775446775446775 </td><td>0.7847863247863247</td></tr>\n",
       "<tr><td>Virginica </td><td>0.8897619047619049</td><td>0.9097619047619048</td><td>0.056515151515151504</td><td>0.8914829614829614</td></tr>\n",
       "</tbody>\n",
       "</table>"
      ],
      "text/plain": [
       "<IPython.core.display.HTML object>"
      ]
     },
     "metadata": {},
     "output_type": "display_data"
    },
    {
     "data": {
      "application/vnd.jupyter.widget-view+json": {
       "model_id": "e6308fff3679465798d8264e02a1c24d",
       "version_major": 2,
       "version_minor": 0
      },
      "text/plain": [
       "Box(children=(Box(children=(Button(button_style='warning', description='1', layout=Layout(margin='0px 16px 0px…"
      ]
     },
     "metadata": {},
     "output_type": "display_data"
    },
    {
     "data": {
      "text/html": [
       "         <div>           <style type=\"text/css\">           .tg  {border-collapse:collapse;border-spacing:0;}           .tg td{font-family:Arial, sans-serif;font-size:14px;padding:10px 5px;border-style:solid;border-width:1px;overflow:hidden;word-break:normal;border-color:black;}           .tg th{font-family:Arial, sans-serif;font-size:14px;font-weight:normal;padding:10px 5px;border-style:solid;border-width:1px;overflow:hidden;word-break:normal;border-color:black;}           .tg .tg-0pky{border-color:inherit;text-align:left;vertical-align:top}           </style>           <table class=\"tg\">             <tr>               <th class=\"tg-0pky\"><strong>Botón</strong></th>               <th class=\"tg-0pky\" style=\"text-align: center;\"><strong>Descripción</strong></th>             </tr>             <tr>               <td class=\"tg-0pky\">1</td>               <td class=\"tg-0pky\">Arbol del conjunto Iris, Ganancia como medida, atributos continuos partiendo en intervalos fijos. Validación cruzada .</td>             </tr>             <tr>               <td class=\"tg-0pky\">2</td>               <td class=\"tg-0pky\">Arbol del conjunto Iris, GainRatio como medida, trata atributos continuos partiendo en intervalos fijos. Validación cruzada </td>             </tr>             <tr>               <td class=\"tg-0pky\">3</td>               <td class=\"tg-0pky\">Arbol del conjunto Iris, Impurity Reduction como medida, atributos continuos partiendo en intervalos fijos. Validación cruzada </td>             </tr>             <tr>               <td class=\"tg-0pky\">4</td>               <td class=\"tg-0pky\">Arbol del conjunto Iris, Ganancia como medida, atributos continuos partiendo en intervalos variables. Validación cruzada </td>             </tr>             <tr>               <td class=\"tg-0pky\">5</td>               <td class=\"tg-0pky\">Arbol del conjunto Iris, GainRatio como medida, atributos continuos partiendo en intervalos variables. Validación cruzada </td>             </tr>             <tr>               <td class=\"tg-0pky\">6</td>               <td class=\"tg-0pky\">Arbol del conjunto Iris, Impurity Reduction como medida, atributos continuos partiendo en intervalos variables. Validación cruzada </td>             </tr>             <tr>               <td class=\"tg-0pky\">7</td>               <td class=\"tg-0pky\">Arbol del conjunto Iris, Ganancia como medida, atributos continuos maximizando ganancia local (C4.5). Validación cruzada </td>             </tr>             <tr>               <td class=\"tg-0pky\">8</td>               <td class=\"tg-0pky\">Arbol del conjunto Iris, GainRatio como medida, atributos continuos maximizando ganancia local (C4.5). Validación cruzada </td>             </tr>             <tr>               <td class=\"tg-0pky\">9</td>               <td class=\"tg-0pky\">Arbol del conjunto Iris, Impurity Reduction como medida, atributos continuos maximizando ganancia local (C4.5). Validación cruzada </td>             </tr>             <tr>               <td class=\"tg-0pky\">10</td>               <td class=\"tg-0pky\">Bosque del conjunto Iris, Ganancia como medida, atributos continuos partiendo en intervalos fijos. Validación cruzada </td>             </tr>             <tr>               <td class=\"tg-0pky\">11</td>               <td class=\"tg-0pky\">Bosque del conjunto Iris, GainRatio como medida, atributos continuos partiendo en intervalos fijos. Validación cruzada </td>             </tr>             <tr>               <td class=\"tg-0pky\">12</td>               <td class=\"tg-0pky\">Bosque del conjunto Iris, Impurity Reduction como medida, atributos continuos partiendo en intervalos fijos. Validación cruzada </td>             </tr>             <tr>               <td class=\"tg-0pky\">13</td>               <td class=\"tg-0pky\">Bosque del conjunto Iris, Ganancia como medida, atributos continuos partiendo en intervalos variables. Validación cruzada </td>             </tr>             <tr>               <td class=\"tg-0pky\">14</td>               <td class=\"tg-0pky\">Bosque del conjunto Iris, GainRatio como medida, atributos continuos partiendo en intervalos variables. Validación cruzada </td>             </tr>             <tr>               <td class=\"tg-0pky\">15</td>               <td class=\"tg-0pky\">Bosque del conjunto Iris, Impurity Reduction como medida, atributos continuos partiendo en intervalos variables. Validación cruzada </td>             </tr>             <tr>               <td class=\"tg-0pky\">16</td>               <td class=\"tg-0pky\">Bosque del conjunto Iris, Ganancia como medida, atributos continuos maximizando ganancia local (C4.5). Validación cruzada </td>             </tr>             <tr>               <td class=\"tg-0pky\">17</td>               <td class=\"tg-0pky\">Bosque del conjunto Iris, GainRatio como medida, atributos continuos maximizando ganancia local (C4.5). Validación cruzada </td>             </tr>             <tr>               <td class=\"tg-0pky\">18</td>               <td class=\"tg-0pky\">Bosque del conjunto Iris, Impurity Reduction como medida, atributos continuos maximizando ganancia local (C4.5). Validación cruzada </td>             </tr>             <tr>               <td class=\"tg-0pky\">a</td>               <td class=\"tg-0pky\">Arbol del conjunto CoverType, Ganancia como medida, atributos continuos partiendo en intervalos fijos. Validación 80/20.</td>             </tr>             <tr>               <td class=\"tg-0pky\">b</td>               <td class=\"tg-0pky\">Arbol del conjunto CoverType, GainRatio como medida, atributos continuos partiendo en intervalos fijos. Validación 80/20</td>             </tr>             <tr>               <td class=\"tg-0pky\">c</td>               <td class=\"tg-0pky\">Arbol del conjunto CoverType, Impurity Reduction como medida, atributos continuos partiendo en intervalos fijos. Validación 80/20</td>             </tr>             <tr>               <td class=\"tg-0pky\">d</td>               <td class=\"tg-0pky\">Arbol del conjunto CoverType, Ganancia como medida, atributos continuos maximizando ganancia local (C4.5). Validación 80/20</td>             </tr>             <tr>               <td class=\"tg-0pky\">e</td>               <td class=\"tg-0pky\">Arbol del conjunto CoverType, GainRatio como medida, atributos continuos maximizando ganancia local (C4.5). Validación 80/20</td>             </tr>             <tr>               <td class=\"tg-0pky\">f</td>               <td class=\"tg-0pky\">Arbol del conjunto CoverType, Impurity Reduction como medida, atributos continuos maximizando ganancia local (C4.5). Validación 80/20</td>             </tr>             <tr>               <td class=\"tg-0pky\">g</td>               <td class=\"tg-0pky\">Bosque del conjunto CoverType, Ganancia como medida, atributos continuos partiendo en intervalos fijos. Validación 80/20</td>             </tr>             <tr>               <td class=\"tg-0pky\">h</td>               <td class=\"tg-0pky\">Bosque del conjunto CoverType, GainRatio como medida, atributos continuos partiendo en intervalos fijos. Validación 80/20</td>             </tr>             <tr>               <td class=\"tg-0pky\">i</td>               <td class=\"tg-0pky\">Bosque del conjunto CoverType, Impurity Reduction como medida, atributos continuos partiendo en intervalos fijos. Validación 80/20</td>             </tr>             <tr>               <td class=\"tg-0pky\">j</td>               <td class=\"tg-0pky\">Bosque del conjunto CoverType, Ganancia como medida, atributos continuos maximizando ganancia local (C4.5). Validación 80/20</td>             </tr>             <tr>               <td class=\"tg-0pky\">k</td>               <td class=\"tg-0pky\">Bosque del conjunto CoverType, GainRatio como medida, atributos continuos maximizando ganancia local (C4.5). Validación 80/20</td>             </tr>             <tr>               <td class=\"tg-0pky\">l</td>               <td class=\"tg-0pky\">Bosque del conjunto CoverType, Impurity Reduction como medida, atributos continuos maximizando ganancia local (C4.5). Validación 80/20</td>             </tr>           </table>         </div>"
      ],
      "text/plain": [
       "<IPython.core.display.HTML object>"
      ]
     },
     "metadata": {},
     "output_type": "display_data"
    }
   ],
   "source": [
    "import getConfusionMatrix.py"
   ]
  },
  {
   "cell_type": "code",
   "execution_count": null,
   "metadata": {},
   "outputs": [],
   "source": []
  },
  {
   "cell_type": "code",
   "execution_count": null,
   "metadata": {},
   "outputs": [],
   "source": []
  },
  {
   "cell_type": "code",
   "execution_count": null,
   "metadata": {},
   "outputs": [],
   "source": []
  },
  {
   "cell_type": "code",
   "execution_count": null,
   "metadata": {},
   "outputs": [],
   "source": []
  },
  {
   "cell_type": "code",
   "execution_count": null,
   "metadata": {},
   "outputs": [],
   "source": []
  },
  {
   "cell_type": "code",
   "execution_count": null,
   "metadata": {},
   "outputs": [],
   "source": []
  },
  {
   "cell_type": "code",
   "execution_count": null,
   "metadata": {},
   "outputs": [],
   "source": []
  }
 ],
 "metadata": {
  "kernelspec": {
   "display_name": "Python 3",
   "language": "python",
   "name": "python3"
  },
  "language_info": {
   "codemirror_mode": {
    "name": "ipython",
    "version": 3
   },
   "file_extension": ".py",
   "mimetype": "text/x-python",
   "name": "python",
   "nbconvert_exporter": "python",
   "pygments_lexer": "ipython3",
   "version": "3.7.2"
  }
 },
 "nbformat": 4,
 "nbformat_minor": 2
}
