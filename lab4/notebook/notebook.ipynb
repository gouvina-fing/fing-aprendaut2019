{
 "cells": [
  {
   "cell_type": "markdown",
   "metadata": {},
   "source": [
    "# Entrega 4 - Análisis de datos (PCA, K-Means)\n",
    "\n",
    "### Grupo 07:\n",
    "     - Renzo Gambone C.I. 5.155.486-4\n",
    "     - Germán Ouviña C.I. 4.823.566-1\n",
    "     - Leandro Rodríguez C.I 4.691.736-4\n"
   ]
  },
  {
   "cell_type": "markdown",
   "metadata": {},
   "source": [
    "## 1. Introducción\n",
    "***\n",
    "### 1.1. Objetivo\n",
    "***\n",
    "El objetivo de esta tarea fue analizar bajo distintos enfoques el corpus _aquienvoto.uy_. Más específicamente, se tuvieron en cuenta los siguientes lineamientos:\n",
    "- Implementar un algoritmo de reducción de dimensionalidad (algoritmo PCA) para visualizar los datos.\n",
    "- Implementar un modelo de aprendizaje no supervisado (algoritmo K-means) para agrupar los datos.\n",
    "- Analizar los resultados intermedios generados en cada enfoque, buscando patrones y extrayendo información de utilidad en el proceso.\n",
    "- Analizar los resultados finales generados en cada enfoque, contestando a las preguntas planteadas en el práctico y a otras surgidas de las observaciones del corups.\n",
    "- Enfocar dichos análisis desde un punto de vista cualitativo, teniendo en cuenta métricas cuantitativas con el fin de orientar dicho análisis.\n",
    "\n",
    "### 1.2. Entrega\n",
    "***\n",
    "La entrega de esta tarea consta de dos grandes componentes:\n",
    "- **Informe** en formato de Jupyter Notebook (este informe).\n",
    "- **Programa** que permite analizar el conjunto de datos utilizando **PCA** o **KMeans**, generar distintas gráficas, evaluar el desempeño de los algoritmos utilizados, entre otras utilidades.\n",
    "\n",
    "El objetivo del **informe** es centralizar la información relativa a los distintos métodos de análisis empleados, así como los resultados obtenidos y las conclusiones generadas. En esta ocasión, es posible ejecutar el código principal completamente desde el informe, agregandose las funciones necesarias en las secciones correspondientes (ver sección 1.3. para una descripción detallada sobre el código encontrado en cada sección).\n",
    "\n",
    "Por otra parte, el **programa** ofrece una interfaz en consola que permite la ejecución de ambos algoritmos acorde a distintas configuraciones paramétricas, así como generar todos los datos mostrados en el informe. Si bien todas estas herramientas fueron pensadas para uso del grupo, en el archivo *README.md* se adjunta una sencilla guía de como utilizarlas.\n",
    "\n",
    "A diferencia de las anteriores entregas, el **programa** y su interfaz se agregó como una herramienta puramente auxiliar. Como se mencionó anteriormente, es posible ejecutar el código principal en el **informe**. De todas formas, con el fin de facilitar la lectura, se redujo el uso de código dentro del informe lo máximo posible. Para un mayor entendimiento de los algoritmos empleados, referir a los archivos de código fuente.\n",
    "\n",
    "### 1.3. Estructura\n",
    "***\n",
    "Dado que en esta ocasión el objetivo principal está en el **análisis** y no en la **construcción** de uno o varios modelos, tanto la estructura como las tareas realizadas difieren bastante con respecto a las anteriores entregas. A continuación se adjunta una breve introducción del contenido de cada sección:\n",
    "\n",
    "- En la **Sección 2 (Enfoque)** se define y contrasta los dos grandes enfoques utilizados a lo largo de la tarea (reducción de dimensionalidad y aprendizaje no supervisado), manteniéndose dicha dualidad en el resto de secciones.\n",
    "- En la **Sección 3 (Diseño)** se tratan los aspectos matemáticos y técnicos de cada enfoque, definiendo los algoritmos empleados, formas de evaluación generales, etc.\n",
    "- En la **Sección 4 (Experimentación)** se define la metodología empleada a la hora de experimentar, así como el proceso de generación de resultados, los resultados en sí y el análisis posterior de los mismos. También se desarrolla una sección con información generada durante la investigación previa realizada en relación al marco teórico del corpus, justificando la toma de decisiones de los distintos experimentos realizados. \n",
    "- En la **Sección 5 (Conclusiones)** se adjuntan las conclusiones generales obtenidas en el desarrollo de la tarea, organizandose las mismas según distintas subsecciones.\n"
   ]
  },
  {
   "cell_type": "markdown",
   "metadata": {},
   "source": [
    "## 2. Enfoque\n",
    "***\n",
    "Como se mencionó en la sección anterior, el objetivo principal de la tarea es estudiar el corpus de _aquienvoto.uy_. El interés general radica en analizar la relación entre los potenciales votantes, buscando patrones en sus respuestas y enfocandose en el análisis cualitativo, es decir, priorizar las observaciones e interpretaciones de los datos.\n",
    "\n",
    "Existen mútliples estrategias posibles para encarar dicho problema, por lo que a continuación se definen los dos enfoques utilizados:\n",
    "\n",
    "### 2.1. Enfoque 1 - Reducción de Dimensionalidad\n",
    "***\n",
    "Por un lado, es posible analizar los datos sin utilizar ningún modelo de aprendizaje automático. Dado que el corpus cuenta con **26 atributos**, el primer enfoque se centra en la **reducción de dimensionalidad** del corpus en sí, buscando reducir la cantidad de dimensiones para poder visualizar los datos y buscar una relación entre votantes graficamente.\n",
    "\n",
    "Dicho enfoque puede presentar varios problemas, ya que para poder graficar los datos es necesario pasar de **26 dimensiones** a **2 dimensiones**, siendo factible una pérdida importante de información en el proceso. De hecho, dado un corpus específico, dependiendo de la técnica de reducción de dimensionalidad empleada y de la relación de los datos en sí, es posible determinar que tanto impactará la reducción de dimensiones en la integridad del corpus.\n",
    "\n",
    "De todas formas, si el corpus cuenta con una estructura \"resistente\" a la reducción de dimensiones y el algoritmo utilizado es compatible con dicha estructura, sería posible observar o descartar patrones entre los votantes.\n",
    "\n",
    "Tomando en cuenta lo anterior, existen múltiples técnicas de reducción de dimensionalidad. En el contexto de esta tarea se utilizará **PCA (Principal Component Analysis)**. En la sección 3.1 se especifican los aspectos técnicos de dicho algoritmo y en la sección 4.4 los resultados de la experimentación y análisis empleando dicha técnica.\n",
    "\n",
    "### 2.2. Enfoque 2 - Aprendizaje no Supervisado (Clustering)\n",
    "***\n",
    "Por otra parte, es posible analizar los datos utilizando modelos de aprendizaje automático, más concretamente modelos que implementen técnicas de **clustering** o **agrupamiento**, siendo está una forma de **aprendizaje no supervisado**.\n",
    "\n",
    "Dicho enfoque genera distintos grupos de votantes, basandose en su distribución en un espacio de **26 dimensiones**. Dependiendo de la naturaleza del corpus, esto puede generar problemas. Al igual que en el anterior enfoque, es posible determinar la cantidad óptima de grupos a generar (ya que a priori, esta es desconocida).\n",
    "\n",
    "Tomando en cuenta lo anterior, existen múltiples técnicas de clustering. En el contexto de esta tarea se utilizará **K-Means**. En la sección 3.2 se especifican los aspectos técnicos de dicho algoritmo y en la sección 4.5 los resultados de la experimentación y análisis empleando dicha técnica."
   ]
  },
  {
   "cell_type": "markdown",
   "metadata": {},
   "source": [
    "## 3. Diseño\n",
    "***\n",
    "En esta sección se detallan las características del diseño utilizado para construir las herramientas de análisis para cada enfoque, profundizandose las estrategias y algoritmos empleados, así como tratando otros puntos, como el procesamiento previo al análisis y/o entrenamiento y la evaluación posterior al mismo."
   ]
  },
  {
   "cell_type": "markdown",
   "metadata": {},
   "source": [
    "### 3.1. Enfoque 1 - Reducción de Dimensionalidad\n",
    "***\n",
    "El primer enfoque\n",
    "\n",
    "#### 3.1.1. Preprocesamiento\n",
    "***\n",
    "A\n",
    "\n",
    "#### 3.1.2. Algoritmo\n",
    "***\n",
    "A\n",
    "\n",
    "#### 3.1.3. Evaluación\n",
    "***\n",
    "A\n",
    "\n",
    "#### 3.1.4. Análisis\n",
    "***\n",
    "A\n"
   ]
  },
  {
   "cell_type": "markdown",
   "metadata": {},
   "source": [
    "### 3.2. Enfoque 2 - Aprendizaje no Supervisado (Clustering)\n",
    "***\n",
    "El primer enfoque\n",
    "\n",
    "#### 3.2.1. Modelo\n",
    "***\n",
    "Acá hablar de generalidades de KMeans y aprendizaje no supervisado (no especificar algoritmo usado)\n",
    "\n",
    "#### 3.2.2. Preprocesamiento\n",
    "***\n",
    "Acá hablar del \n",
    "\n",
    "#### 3.2.3. Algoritmo\n",
    "***\n",
    "Acá hablar del algoritmo de KMeans tradicional usado, por arriba. Mencionar especificaciones\n",
    "\n",
    "#### 3.2.4. Evaluación\n",
    "***\n",
    "Acá hablar de que como no es supervisado no se puede evaluar como los modelos de tareas anteriores. Hablar del problema de caer en un optimo local. Hablar de silhouette y ARI, como funcionan y por que nos sirven\n",
    "\n",
    "#### 3.2.5. Análisis\n",
    "***\n",
    "Utilidad en el análisis, encontrar un patrón \n"
   ]
  },
  {
   "cell_type": "markdown",
   "metadata": {},
   "source": [
    "## 4. Experimentación\n",
    "***\n",
    "En esta sección se detallan los aspectos relacionados a las distintas pruebas realizadas, tratando tanto los lineamientos previos como los análisis realizados sobre los resultados."
   ]
  },
  {
   "cell_type": "markdown",
   "metadata": {},
   "source": [
    "### 4.1. Metodología\n",
    "***\n",
    "\n",
    "Dado el objetivo de buscar patrones en el corpus, se utilizó una metodología de experimentación particular, dividiendola en las siguientes etapas:\n",
    "\n",
    "1. **Investigación previa:** Al tratarse de un corpus con un contexto específico (posibles votaciones en elecciones nacionales), fue necesario realizar una investigación genérica sobre dicho contexto para poder evaluarlo lo mejor posible. En resumen, se investigó sobre generalidades de la política partidaria, análisis estadísticos en poblaciones de votantes, variables indicadoras, entre otros. En la sección 4.2 se profundiza la información recabada y los sesgos introducidos por la interpretación de la misma.\n",
    "<br><br>\n",
    "2. **Análisis del corpus:** Habiendo realizado el sondeo de información básica sobre el tema, se analizó la estructura del corpus, especulando sobre su correctitud. En la sección 4.3 se estudian las posibles ventajas y desventajas de esta estructura.\n",
    "<br><br>\n",
    "3. **Generación de resultados:** Una vez realizada la investigación y el análisis preliminar, se ejecutaron distintas configuraciones de ambos enfoques con el fin de observar los datos resultantes. En la sección 4.4 se expanden las elecciones de configuraciones utilizadas, la justificación de dichas elecciones, los resultados más importantes y se adjuntan los scripts que fueron implementados.\n",
    "<br><br>\n",
    "4. **Análisis de enfoques:** Teniendo los resultados generados, se realizó un estudio de los mismos con un enfoque de análisis cualitativo, utilizando los conocimientos generados en las etapas previas. Se analizaron métricas descriptivas de ambos algoritmos, también realizandose observaciones e interpretaciones de cada resultado.En la sección 4.5 se expanden estos puntos y se adjuntan los scripts necesarios para evaluar el desempeño del algoritmo utilizado y la calidad de los resultados analizados.\n",
    "<br><br>\n",
    "5. **Contraste entre enfoques:** Para finalizar, se contrastó de forma general los resultados, observaciones e interpretaciones de cada enfoque, con el objetivo de detectar alguna contradicción o parámetro en común que permita rescatar o descartar conclusiones. En la sección 4.6 se tratan estos temas."
   ]
  },
  {
   "cell_type": "markdown",
   "metadata": {},
   "source": [
    "### 4.2. Marco Teórico\n",
    "***\n",
    "\n",
    "Links:\n",
    "- https://es.wikipedia.org/wiki/Gr%C3%A1fico_de_Nolan\n",
    "- https://es.wikipedia.org/wiki/Espectro_pol%C3%ADtico\n",
    "- https://es.wikipedia.org/wiki/Izquierda_y_derecha_(pol%C3%ADtica)\n",
    "- https://es.wikipedia.org/wiki/Partido_pol%C3%ADtico\n",
    "\n",
    "Separaciones:\n",
    "- Candidatos\n",
    "- Partidos\n",
    "- Izquierda / derecha\n",
    "- Grafica de Nolan 1\n",
    "- Grafica de Nolan 2"
   ]
  },
  {
   "cell_type": "markdown",
   "metadata": {},
   "source": [
    "### 4.3. Análisis - Corpus\n",
    "***\n",
    "\n",
    "Acá analizamos el corpus usando los datos de la parte anterior.\n",
    "- Hay 3 grupos de preguntas que tal vez no son representativos\n",
    "- Hay 26 preguntas que tal vez no son representativas\n",
    "- Los puntajes tal vez no son representativos\n"
   ]
  },
  {
   "cell_type": "markdown",
   "metadata": {},
   "source": [
    "### 4.4. Análisis - Reducción de dimensionalidad\n",
    "***\n",
    "A"
   ]
  },
  {
   "cell_type": "markdown",
   "metadata": {},
   "source": [
    "#### 4.4.1. Proceso\n",
    "***\n",
    "Acá mencionar que cosas corrimos\n",
    "\n",
    "#### 4.4.2. Resultados\n",
    "***\n",
    "Acá mostrar"
   ]
  },
  {
   "cell_type": "code",
   "execution_count": null,
   "metadata": {},
   "outputs": [],
   "source": [
    "# Acá script que corre PCA y muestra resultados generales (grafica sin diferenciacion)"
   ]
  },
  {
   "cell_type": "markdown",
   "metadata": {},
   "source": [
    "#### 4.4.3. Análisis cualitativo\n",
    "***\n",
    "Acá no se compara, se hacen observaciones e interpretaciones"
   ]
  },
  {
   "cell_type": "code",
   "execution_count": null,
   "metadata": {},
   "outputs": [],
   "source": [
    "# Acá script que muestra los resultados para partido (opciones: Todos juntos, cada partido)"
   ]
  },
  {
   "cell_type": "markdown",
   "metadata": {},
   "source": [
    "Acá se habla de los resultados por partido"
   ]
  },
  {
   "cell_type": "code",
   "execution_count": 1,
   "metadata": {},
   "outputs": [],
   "source": [
    "# Acá script que muestra los resultados para izquierda derecha"
   ]
  },
  {
   "cell_type": "markdown",
   "metadata": {},
   "source": [
    "Acá se habla de los resultados por izquierda derecha"
   ]
  },
  {
   "cell_type": "code",
   "execution_count": null,
   "metadata": {},
   "outputs": [],
   "source": [
    "# Acá script que muestra los resultados para Nolan"
   ]
  },
  {
   "cell_type": "markdown",
   "metadata": {},
   "source": [
    "Acá se habla de los resultados para Nolan\n",
    "\n",
    "Acá también se concluye que no esta mostrando nada"
   ]
  },
  {
   "cell_type": "markdown",
   "metadata": {},
   "source": [
    "#### 4.4.4. Evaluación\n",
    "***\n",
    "Acá se evalua si PCA encara (para saber si el corpus es el que esta mal o es PCA)"
   ]
  },
  {
   "cell_type": "code",
   "execution_count": 2,
   "metadata": {},
   "outputs": [],
   "source": [
    "# Acá script que muestra valores propios"
   ]
  },
  {
   "cell_type": "markdown",
   "metadata": {},
   "source": [
    "Acá se habla de que hay un PC muy grande y eso significa que no encara"
   ]
  },
  {
   "cell_type": "code",
   "execution_count": null,
   "metadata": {},
   "outputs": [],
   "source": [
    "# Acá script que muestra ratio de varianza"
   ]
  },
  {
   "cell_type": "markdown",
   "metadata": {},
   "source": [
    "Acá se habla de que al reducir a 2 dimensiones se perdio mas del 60% de la info"
   ]
  },
  {
   "cell_type": "code",
   "execution_count": null,
   "metadata": {},
   "outputs": [],
   "source": [
    "# Acá script que muestra matriz de covarianza"
   ]
  },
  {
   "cell_type": "markdown",
   "metadata": {},
   "source": [
    "Acá se analiza la matriz de covarianza y como impacta la relacion entre las preguntas"
   ]
  },
  {
   "cell_type": "markdown",
   "metadata": {},
   "source": [
    "### 4.5. Análisis - Aprendizaje no Supervisado (Clustering)\n",
    "***\n",
    "A"
   ]
  },
  {
   "cell_type": "markdown",
   "metadata": {},
   "source": [
    "#### 4.5.1. Proceso\n",
    "***\n",
    "Acá mencionar que cosas corrimos\n",
    "\n",
    "#### 4.5.2. Resultados\n",
    "***\n",
    "Acá mostrar"
   ]
  },
  {
   "cell_type": "code",
   "execution_count": null,
   "metadata": {},
   "outputs": [],
   "source": [
    "# Acá script que corre Kmeans y muestra grafica de torta de clusterings para k=2,3,5,10, mostrando Silhouette de cada uno"
   ]
  },
  {
   "cell_type": "markdown",
   "metadata": {},
   "source": [
    "Acá se habla de cual fue mejor silhouette"
   ]
  },
  {
   "cell_type": "markdown",
   "metadata": {},
   "source": [
    "#### 4.5.3. Análisis cualitativo\n",
    "***\n",
    "Se hacen observaciones e interpretaciones"
   ]
  },
  {
   "cell_type": "code",
   "execution_count": null,
   "metadata": {},
   "outputs": [],
   "source": [
    "# Acá script que muestra para k=2,3,5,10 como se separan los candidatos"
   ]
  },
  {
   "cell_type": "markdown",
   "metadata": {},
   "source": [
    "Acá se habla de que no se observa patrones en la separacion de candidatos pero que hay que ver con grupos mas grandes"
   ]
  },
  {
   "cell_type": "code",
   "execution_count": null,
   "metadata": {},
   "outputs": [],
   "source": [
    "# Acá script que muestra para k=11 como se separan los partidos y muestra el Silhouette y calcula el ARI"
   ]
  },
  {
   "cell_type": "markdown",
   "metadata": {},
   "source": [
    "Acá se analiza esto de arriba"
   ]
  },
  {
   "cell_type": "code",
   "execution_count": null,
   "metadata": {},
   "outputs": [],
   "source": [
    "# Acá script que muestra para k=3 como se separan los espectros izquierda derecha y muestra el Silhouette y calcula el ARI"
   ]
  },
  {
   "cell_type": "markdown",
   "metadata": {},
   "source": [
    "Acá se analiza esto de arriba"
   ]
  },
  {
   "cell_type": "code",
   "execution_count": null,
   "metadata": {},
   "outputs": [],
   "source": [
    "# Acá script que muestra para k=5 como se separan los candidatos y muestra el Silhouette y calcula el ARI"
   ]
  },
  {
   "cell_type": "markdown",
   "metadata": {},
   "source": [
    "Acá se analiza esto de arriba\n",
    "\n",
    "Se concluye cual es la mejor cantidad de clusters en base al silhouette y el ARI"
   ]
  },
  {
   "cell_type": "markdown",
   "metadata": {},
   "source": [
    "### 4.6. Comparación\n",
    "***\n",
    "\n",
    "Acá se comparan las observaciones e interpretaciones surgidas en ambos enfoques, con el fin de ver si tienen lineamientos similares o se contraponen en algo."
   ]
  },
  {
   "cell_type": "markdown",
   "metadata": {},
   "source": [
    "## 5. Conclusiones\n",
    "***\n",
    "#### 5.1. Respecto a los Datos\n",
    "***\n",
    "Acá hablamos sobre el dataset, pudiendo mencionar cosas como:\n",
    "- La elección de atributos, probablemente desacertada\n",
    "- La representación de los datos y su relación con los candidatos a votar, probablemente sesgada\n",
    "\n",
    "#### 5.2. Respecto a los Enfoques\n",
    "***\n",
    "Acá hablamos sobre los enfoques (pca y kmeans), pudiendo mencionar cosas como:\n",
    "- Por que pca no fue util (demasiada reduccion de dimensionalidad, los nuevos atributos no agrupan bien las preguntas, etc)\n",
    "- Por que kmeans fue mas util pero tampoco separo del todo (depende de la cantidad de clusters, etc)\n",
    "\n",
    "#### 5.3. Respecto a los Resultados\n",
    "***\n",
    "Acá hablamos sobre los resultados de ambos enfoques (pca y kmeans), pudiendo mencionar cosas como:\n",
    "- Información que pudimos sacar gracias a algun enfoque o la mezcla de los dos (la separacion de partidos politicos, otros posibles espectros politicos)\n",
    "\n",
    "#### 5.4. Posibles mejoras\n",
    "***\n",
    "Para cerrar, se adjunta una lista de mejoras consideradas a la experimentación actual:\n",
    "- Como mejorar general (cambiar atributos)\n",
    "- Como mejorar pca (elegir otro especto, reducir la dimensionalidad a un valor optimo)\n",
    "- Como mejorar kmeans (probar mas clusters, idk)"
   ]
  },
  {
   "cell_type": "markdown",
   "metadata": {},
   "source": [
    "## 6. Referencias\n",
    "***\n",
    "[1] Hola\n"
   ]
  }
 ],
 "metadata": {
  "kernelspec": {
   "display_name": "Python 3",
   "language": "python",
   "name": "python3"
  },
  "language_info": {
   "codemirror_mode": {
    "name": "ipython",
    "version": 3
   },
   "file_extension": ".py",
   "mimetype": "text/x-python",
   "name": "python",
   "nbconvert_exporter": "python",
   "pygments_lexer": "ipython3",
   "version": "3.7.1"
  }
 },
 "nbformat": 4,
 "nbformat_minor": 2
}
