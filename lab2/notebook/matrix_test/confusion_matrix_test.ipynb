{
 "cells": [
  {
   "cell_type": "code",
   "execution_count": 1,
   "metadata": {
    "scrolled": false
   },
   "outputs": [
    {
     "data": {
      "text/html": [
       "<h1 style=\"text-align: center;\">Seleccione un caso para visualizar de la botonera</h1>"
      ],
      "text/plain": [
       "<IPython.core.display.HTML object>"
      ]
     },
     "metadata": {},
     "output_type": "display_data"
    },
    {
     "name": "stdout",
     "output_type": "stream",
     "text": [
      "\n",
      "Descripción: Arbol del conjunto Iris, Ganancia como medida, atributos continuos maximizando ganancia local (C4.5). Validación cruzada \n",
      "\n"
     ]
    },
    {
     "data": {
      "text/html": [
       "<p><strong>Accuracy</strong>: 0.9533333333333334</p>"
      ],
      "text/plain": [
       "<IPython.core.display.HTML object>"
      ]
     },
     "metadata": {},
     "output_type": "display_data"
    },
    {
     "data": {
      "text/html": [
       "         <div>           <style type=\"text/css\">           .tg  {border-collapse:collapse;border-spacing:0;}           .tg td{font-family:Arial, sans-serif;font-size:14px;padding:10px 5px;border-style:solid;border-width:1px;overflow:hidden;word-break:normal;border-color:black;}           .tg th{font-family:Arial, sans-serif;font-size:14px;font-weight:normal;padding:10px 5px;border-style:solid;border-width:1px;overflow:hidden;word-break:normal;border-color:black;}           .tg .tg-0pky{border-color:inherit;text-align:left;vertical-align:top}           </style>           <table class=\"tg\">             <tr>               <th class=\"tg-0pky\"><strong>Precision mean</strong></th>               <th class=\"tg-0pky\"><strong>Recall mean</strong></th>               <th class=\"tg-0pky\"><strong>Fall-off mean</strong></th>               <th class=\"tg-0pky\"><strong>F-Measure mean</strong></th>             </tr>             <tr>               <td class=\"tg-0pky\">0.9588888888888889</td>               <td class=\"tg-0pky\">0.9504761904761905</td>               <td class=\"tg-0pky\">0.022121212121212118</td>               <td class=\"tg-0pky\">0.9483549783549785</td>             </tr>           </table>         </div>"
      ],
      "text/plain": [
       "<IPython.core.display.HTML object>"
      ]
     },
     "metadata": {},
     "output_type": "display_data"
    },
    {
     "data": {
      "text/html": [
       "         <div>           <style type=\"text/css\">           .tg  {border-collapse:collapse;border-spacing:0;}           .tg td{font-family:Arial, sans-serif;font-size:14px;padding:10px 5px;border-style:solid;border-width:1px;overflow:hidden;word-break:normal;border-color:black;}           .tg th{font-family:Arial, sans-serif;font-size:14px;font-weight:normal;padding:10px 5px;border-style:solid;border-width:1px;overflow:hidden;word-break:normal;border-color:black;}           .tg .tg-0pky{border-color:inherit;text-align:left;vertical-align:top}           </style>           <table class=\"tg\">             <tr>               <th class=\"tg-0pky\"><strong>Precision weighted mean</strong></th>               <th class=\"tg-0pky\"><strong>Recall weighted mean</strong></th>               <th class=\"tg-0pky\"><strong>Fall-off weighted mean</strong></th>               <th class=\"tg-0pky\"><strong>F-Measure weighted mean</strong></th>             </tr>             <tr>               <td class=\"tg-0pky\">0.9637777777777778</td>               <td class=\"tg-0pky\">0.9533333333333334</td>               <td class=\"tg-0pky\">0.019696969696969695</td>               <td class=\"tg-0pky\">0.9529129389129387</td>             </tr>           </table>         </div>"
      ],
      "text/plain": [
       "<IPython.core.display.HTML object>"
      ]
     },
     "metadata": {},
     "output_type": "display_data"
    },
    {
     "data": {
      "text/html": [
       "<h2>Métricas</h2>"
      ],
      "text/plain": [
       "<IPython.core.display.HTML object>"
      ]
     },
     "metadata": {},
     "output_type": "display_data"
    },
    {
     "data": {
      "text/html": [
       "<table>\n",
       "<tbody>\n",
       "<tr><td>X         </td><td>Precision         </td><td>Recall            </td><td>Fall-off            </td><td>F-Measure         </td></tr>\n",
       "<tr><td>Setosa    </td><td>0.9833333333333332</td><td>1.0               </td><td>0.01                </td><td>0.990909090909091 </td></tr>\n",
       "<tr><td>Versicolor</td><td>0.9266666666666667</td><td>0.9464285714285714</td><td>0.038181818181818185</td><td>0.9286435786435787</td></tr>\n",
       "<tr><td>Virginica </td><td>0.9666666666666666</td><td>0.905             </td><td>0.01818181818181818 </td><td>0.9255122655122656</td></tr>\n",
       "</tbody>\n",
       "</table>"
      ],
      "text/plain": [
       "<IPython.core.display.HTML object>"
      ]
     },
     "metadata": {},
     "output_type": "display_data"
    },
    {
     "data": {
      "application/vnd.jupyter.widget-view+json": {
       "model_id": "04c2d84f67bb498abac1f3d6237ee2b0",
       "version_major": 2,
       "version_minor": 0
      },
      "text/html": [
       "<p>Failed to display Jupyter Widget of type <code>Box</code>.</p>\n",
       "<p>\n",
       "  If you're reading this message in the Jupyter Notebook or JupyterLab Notebook, it may mean\n",
       "  that the widgets JavaScript is still loading. If this message persists, it\n",
       "  likely means that the widgets JavaScript library is either not installed or\n",
       "  not enabled. See the <a href=\"https://ipywidgets.readthedocs.io/en/stable/user_install.html\">Jupyter\n",
       "  Widgets Documentation</a> for setup instructions.\n",
       "</p>\n",
       "<p>\n",
       "  If you're reading this message in another frontend (for example, a static\n",
       "  rendering on GitHub or <a href=\"https://nbviewer.jupyter.org/\">NBViewer</a>),\n",
       "  it may mean that your frontend doesn't currently support widgets.\n",
       "</p>\n"
      ],
      "text/plain": [
       "Box(children=(Box(children=(Button(button_style='warning', description='1', layout=Layout(margin='0px 16px 0px 0px', max_width='150px'), style=ButtonStyle()), Button(button_style='warning', description='2', layout=Layout(margin='0px 16px 0px 0px', max_width='150px'), style=ButtonStyle()), Button(button_style='warning', description='3', layout=Layout(margin='0px 16px 0px 0px', max_width='150px'), style=ButtonStyle()), Button(button_style='warning', description='4', layout=Layout(margin='0px 16px 0px 0px', max_width='150px'), style=ButtonStyle()), Button(button_style='warning', description='5', layout=Layout(margin='0px 16px 0px 0px', max_width='150px'), style=ButtonStyle()), Button(button_style='warning', description='6', layout=Layout(margin='0px 16px 0px 0px', max_width='150px'), style=ButtonStyle()), Button(button_style='warning', description='7', layout=Layout(margin='0px 16px 0px 0px', max_width='150px'), style=ButtonStyle()), Button(button_style='warning', description='8', layout=Layout(margin='0px 16px 0px 0px', max_width='150px'), style=ButtonStyle()), Button(button_style='warning', description='9', layout=Layout(margin='0px 16px 0px 0px', max_width='150px'), style=ButtonStyle()), Button(button_style='warning', description='10', layout=Layout(margin='0px 16px 0px 0px', max_width='150px'), style=ButtonStyle()), Button(button_style='warning', description='11', layout=Layout(margin='0px 16px 0px 0px', max_width='150px'), style=ButtonStyle()), Button(button_style='warning', description='12', layout=Layout(margin='0px 16px 0px 0px', max_width='150px'), style=ButtonStyle()), Button(button_style='warning', description='13', layout=Layout(margin='0px 16px 0px 0px', max_width='150px'), style=ButtonStyle()), Button(button_style='warning', description='14', layout=Layout(margin='0px 16px 0px 0px', max_width='150px'), style=ButtonStyle()), Button(button_style='warning', description='15', layout=Layout(margin='0px 16px 0px 0px', max_width='150px'), style=ButtonStyle()), Button(button_style='warning', description='16', layout=Layout(margin='0px 16px 0px 0px', max_width='150px'), style=ButtonStyle()), Button(button_style='warning', description='17', layout=Layout(margin='0px 16px 0px 0px', max_width='150px'), style=ButtonStyle()), Button(button_style='warning', description='18', layout=Layout(margin='0px 16px 0px 0px', max_width='150px'), style=ButtonStyle())), layout=Layout(display='flex', flex_flow='row', margin='8px 0px 8px 0px', width='100%')), Box(children=(Button(button_style='warning', description='a', layout=Layout(margin='0px 16px 0px 0px', max_width='150px'), style=ButtonStyle()), Button(button_style='warning', description='b', layout=Layout(margin='0px 16px 0px 0px', max_width='150px'), style=ButtonStyle()), Button(button_style='warning', description='c', layout=Layout(margin='0px 16px 0px 0px', max_width='150px'), style=ButtonStyle()), Button(button_style='warning', description='d', layout=Layout(margin='0px 16px 0px 0px', max_width='150px'), style=ButtonStyle()), Button(button_style='warning', description='e', layout=Layout(margin='0px 16px 0px 0px', max_width='150px'), style=ButtonStyle()), Button(button_style='warning', description='f', layout=Layout(margin='0px 16px 0px 0px', max_width='150px'), style=ButtonStyle()), Button(button_style='warning', description='g', layout=Layout(margin='0px 16px 0px 0px', max_width='150px'), style=ButtonStyle()), Button(button_style='warning', description='h', layout=Layout(margin='0px 16px 0px 0px', max_width='150px'), style=ButtonStyle()), Button(button_style='warning', description='i', layout=Layout(margin='0px 16px 0px 0px', max_width='150px'), style=ButtonStyle()), Button(button_style='warning', description='j', layout=Layout(margin='0px 16px 0px 0px', max_width='150px'), style=ButtonStyle()), Button(button_style='warning', description='k', layout=Layout(margin='0px 16px 0px 0px', max_width='150px'), style=ButtonStyle()), Button(button_style='warning', description='l', layout=Layout(margin='0px 16px 0px 0px', max_width='150px'), style=ButtonStyle())), layout=Layout(display='flex', flex_flow='row', margin='8px 0px 8px 0px', width='100%'))), layout=Layout(display='flex', flex_flow='column', width='100%'))"
      ]
     },
     "metadata": {},
     "output_type": "display_data"
    },
    {
     "data": {
      "text/html": [
       "         <div>           <style type=\"text/css\">           .tg  {border-collapse:collapse;border-spacing:0;}           .tg td{font-family:Arial, sans-serif;font-size:14px;padding:10px 5px;border-style:solid;border-width:1px;overflow:hidden;word-break:normal;border-color:black;}           .tg th{font-family:Arial, sans-serif;font-size:14px;font-weight:normal;padding:10px 5px;border-style:solid;border-width:1px;overflow:hidden;word-break:normal;border-color:black;}           .tg .tg-0pky{border-color:inherit;text-align:left;vertical-align:top}           </style>           <table class=\"tg\">             <tr>               <th class=\"tg-0pky\"><strong>Botón</strong></th>               <th class=\"tg-0pky\" style=\"text-align: center;\"><strong>Descripción</strong></th>             </tr>             <tr>               <td class=\"tg-0pky\">1</td>               <td class=\"tg-0pky\">Arbol del conjunto Iris, Ganancia como medida, atributos continuos partiendo en intervalos fijos. Validación cruzada .</td>             </tr>             <tr>               <td class=\"tg-0pky\">2</td>               <td class=\"tg-0pky\">Arbol del conjunto Iris, GainRatio como medida, trata atributos continuos partiendo en intervalos fijos. Validación cruzada </td>             </tr>             <tr>               <td class=\"tg-0pky\">3</td>               <td class=\"tg-0pky\">Arbol del conjunto Iris, Impurity Reduction como medida, atributos continuos partiendo en intervalos fijos. Validación cruzada </td>             </tr>             <tr>               <td class=\"tg-0pky\">4</td>               <td class=\"tg-0pky\">Arbol del conjunto Iris, Ganancia como medida, atributos continuos partiendo en intervalos variables. Validación cruzada </td>             </tr>             <tr>               <td class=\"tg-0pky\">5</td>               <td class=\"tg-0pky\">Arbol del conjunto Iris, GainRatio como medida, atributos continuos partiendo en intervalos variables. Validación cruzada </td>             </tr>             <tr>               <td class=\"tg-0pky\">6</td>               <td class=\"tg-0pky\">Arbol del conjunto Iris, Impurity Reduction como medida, atributos continuos partiendo en intervalos variables. Validación cruzada </td>             </tr>             <tr>               <td class=\"tg-0pky\">7</td>               <td class=\"tg-0pky\">Arbol del conjunto Iris, Ganancia como medida, atributos continuos maximizando ganancia local (C4.5). Validación cruzada </td>             </tr>             <tr>               <td class=\"tg-0pky\">8</td>               <td class=\"tg-0pky\">Arbol del conjunto Iris, GainRatio como medida, atributos continuos maximizando ganancia local (C4.5). Validación cruzada </td>             </tr>             <tr>               <td class=\"tg-0pky\">9</td>               <td class=\"tg-0pky\">Arbol del conjunto Iris, Impurity Reduction como medida, atributos continuos maximizando ganancia local (C4.5). Validación cruzada </td>             </tr>             <tr>               <td class=\"tg-0pky\">10</td>               <td class=\"tg-0pky\">Bosque del conjunto Iris, Ganancia como medida, atributos continuos partiendo en intervalos fijos. Validación cruzada </td>             </tr>             <tr>               <td class=\"tg-0pky\">11</td>               <td class=\"tg-0pky\">Bosque del conjunto Iris, GainRatio como medida, atributos continuos partiendo en intervalos fijos. Validación cruzada </td>             </tr>             <tr>               <td class=\"tg-0pky\">12</td>               <td class=\"tg-0pky\">Bosque del conjunto Iris, Impurity Reduction como medida, atributos continuos partiendo en intervalos fijos. Validación cruzada </td>             </tr>             <tr>               <td class=\"tg-0pky\">13</td>               <td class=\"tg-0pky\">Bosque del conjunto Iris, Ganancia como medida, atributos continuos partiendo en intervalos variables. Validación cruzada </td>             </tr>             <tr>               <td class=\"tg-0pky\">14</td>               <td class=\"tg-0pky\">Bosque del conjunto Iris, GainRatio como medida, atributos continuos partiendo en intervalos variables. Validación cruzada </td>             </tr>             <tr>               <td class=\"tg-0pky\">15</td>               <td class=\"tg-0pky\">Bosque del conjunto Iris, Impurity Reduction como medida, atributos continuos partiendo en intervalos variables. Validación cruzada </td>             </tr>             <tr>               <td class=\"tg-0pky\">16</td>               <td class=\"tg-0pky\">Bosque del conjunto Iris, Ganancia como medida, atributos continuos maximizando ganancia local (C4.5). Validación cruzada </td>             </tr>             <tr>               <td class=\"tg-0pky\">17</td>               <td class=\"tg-0pky\">Bosque del conjunto Iris, GainRatio como medida, atributos continuos maximizando ganancia local (C4.5). Validación cruzada </td>             </tr>             <tr>               <td class=\"tg-0pky\">18</td>               <td class=\"tg-0pky\">Bosque del conjunto Iris, Impurity Reduction como medida, atributos continuos maximizando ganancia local (C4.5). Validación cruzada </td>             </tr>             <tr>               <td class=\"tg-0pky\">a</td>               <td class=\"tg-0pky\">Arbol del conjunto CoverType, Ganancia como medida, atributos continuos partiendo en intervalos fijos. Validación 80/20.</td>             </tr>             <tr>               <td class=\"tg-0pky\">b</td>               <td class=\"tg-0pky\">Arbol del conjunto CoverType, GainRatio como medida, atributos continuos partiendo en intervalos fijos. Validación 80/20</td>             </tr>             <tr>               <td class=\"tg-0pky\">c</td>               <td class=\"tg-0pky\">Arbol del conjunto CoverType, Impurity Reduction como medida, atributos continuos partiendo en intervalos fijos. Validación 80/20</td>             </tr>             <tr>               <td class=\"tg-0pky\">d</td>               <td class=\"tg-0pky\">Arbol del conjunto CoverType, Ganancia como medida, atributos continuos maximizando ganancia local (C4.5). Validación 80/20</td>             </tr>             <tr>               <td class=\"tg-0pky\">e</td>               <td class=\"tg-0pky\">Arbol del conjunto CoverType, GainRatio como medida, atributos continuos maximizando ganancia local (C4.5). Validación 80/20</td>             </tr>             <tr>               <td class=\"tg-0pky\">f</td>               <td class=\"tg-0pky\">Arbol del conjunto CoverType, Impurity Reduction como medida, atributos continuos maximizando ganancia local (C4.5). Validación 80/20</td>             </tr>             <tr>               <td class=\"tg-0pky\">g</td>               <td class=\"tg-0pky\">Bosque del conjunto CoverType, Ganancia como medida, atributos continuos partiendo en intervalos fijos. Validación 80/20</td>             </tr>             <tr>               <td class=\"tg-0pky\">h</td>               <td class=\"tg-0pky\">Bosque del conjunto CoverType, GainRatio como medida, atributos continuos partiendo en intervalos fijos. Validación 80/20</td>             </tr>             <tr>               <td class=\"tg-0pky\">i</td>               <td class=\"tg-0pky\">Bosque del conjunto CoverType, Impurity Reduction como medida, atributos continuos partiendo en intervalos fijos. Validación 80/20</td>             </tr>             <tr>               <td class=\"tg-0pky\">j</td>               <td class=\"tg-0pky\">Bosque del conjunto CoverType, Ganancia como medida, atributos continuos maximizando ganancia local (C4.5). Validación 80/20</td>             </tr>             <tr>               <td class=\"tg-0pky\">k</td>               <td class=\"tg-0pky\">Bosque del conjunto CoverType, GainRatio como medida, atributos continuos maximizando ganancia local (C4.5). Validación 80/20</td>             </tr>             <tr>               <td class=\"tg-0pky\">l</td>               <td class=\"tg-0pky\">Bosque del conjunto CoverType, Impurity Reduction como medida, atributos continuos maximizando ganancia local (C4.5). Validación 80/20</td>             </tr>           </table>         </div>"
      ],
      "text/plain": [
       "<IPython.core.display.HTML object>"
      ]
     },
     "metadata": {},
     "output_type": "display_data"
    }
   ],
   "source": [
    "import getConfusionMatrix.py"
   ]
  },
  {
   "cell_type": "code",
   "execution_count": null,
   "metadata": {},
   "outputs": [],
   "source": []
  },
  {
   "cell_type": "code",
   "execution_count": null,
   "metadata": {},
   "outputs": [],
   "source": []
  }
 ],
 "metadata": {
  "kernelspec": {
   "display_name": "Python 3",
   "language": "python",
   "name": "python3"
  },
  "language_info": {
   "codemirror_mode": {
    "name": "ipython",
    "version": 3
   },
   "file_extension": ".py",
   "mimetype": "text/x-python",
   "name": "python",
   "nbconvert_exporter": "python",
   "pygments_lexer": "ipython3",
   "version": "3.6.4"
  }
 },
 "nbformat": 4,
 "nbformat_minor": 2
}
