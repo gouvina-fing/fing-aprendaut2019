{
 "cells": [
  {
   "cell_type": "markdown",
   "metadata": {},
   "source": [
    "# Entrega 5.1 - Clasificador (Regresión Logística)\n",
    "\n",
    "### Grupo 07:\n",
    "     - Renzo Gambone C.I. 5.155.486-4\n",
    "     - Germán Ouviña C.I. 4.823.566-1\n",
    "     - Leandro Rodríguez C.I 4.691.736-4\n"
   ]
  },
  {
   "cell_type": "markdown",
   "metadata": {},
   "source": [
    "## 1. Introducción\n",
    "***\n",
    "### 1.1. Objetivo\n",
    "***\n",
    "El objetivo de esta tarea fue implementar clasificadores basados en **regresión logística**, aplicando **PCA** en el corpus para ciertos escenarios. Una vez generados distintos clasificadores en base a varios parámetros, se evaluó la performance de los mismos utilizando distintos tipos de métricas y se compararon dichas evaluaciones con el fin de determinar cual modelo se ajustó mejor a cada escenario.\n",
    "\n",
    "En términos formales, los parámetros del problema se reducen a lo siguiente:\n",
    "- **Tarea *T*:** Clasificar ejemplos de un conjunto restringido a cierto formato dado.\n",
    "- **Experiencia *E*:** Conjunto de datos del formato apropiado con ejemplos previamente clasificados.\n",
    "- **Performance *P*:** Múltiples tipos de medidas (las cuales se profundizan en la sección 2.4).\n",
    "\n",
    "### 1.2. Entrega\n",
    "***\n",
    "La entrega de esta tarea consta de dos grandes componentes:\n",
    "- **Informe** en formato de Jupyter Notebook (este informe).\n",
    "- **Programa** que permite entrenar clasificadores, evaluar su desempeño, etc.\n",
    "\n",
    "El objetivo del informe es centralizar la información relativa a las pautas de la letra, situando el enfoque en la construcción de los distintos modelos, así como en los datos obtenidos mediante las pruebas realizadas con varias configuraciones paramétricas. Se adjuntan algunos scripts para ayudar a la lectura o probar en tiempo real ciertas funcionalidades.\n",
    "\n",
    "Por otra parte, el programa ofrece una interfaz en consola que permite entrenar y evaluar clasificadores acorde a múltiples configuraciones paramétricas. A su vez, permite comparar distintos clasificadores automaticamente. Si bien todas estas herramientas fueron pensadas para uso del grupo, en el archivo *README.md* se adjunta una sencilla guía de como utilizarlas.\n",
    "\n",
    "### 1.3. Estructura\n",
    "***\n",
    "En las siguientes secciones se especifica el diseño del modelo, justificando la toma de decisiones a la hora de establecer los parámetros y detallando que bibliotecas fueron utilizadas, junto a las métricas utilizadas en la evaluación. Luego, se detalla la metodología de experimentación y con la misma los resultados obtenidos para cada modelo y cada conjunto de datos, habiendo entrenado con distintas configuraciones paramétricas. Finalmente se agregan conclusiones respecto a los resultados obtenidos.\n",
    "\n",
    "Como detalle importante, dado que el informe se construyó siguiendo la estructura utilizada en anteriores entregas, se cubren aspectos teóricos y analíticos no pedidos explícitamente en la consigna. Dichos aspectos se encuentran en las secciones **2 (Diseño)** y **4 (Conclusiones)** respectivamente. Por otra parte, las pautas de la tarea se cubren en la sección **3 (Experimentación)**, más concretamente:\n",
    "- Las partes ***a*** y ***b*** se tratan en la **sección 3.2 (Partición y evaluación del corpus)**\n",
    "- Las partes ***c***, ***d*** y ***e*** se tratan en la **sección 3.3 (Configuraciones paramétricas)** y en la **sección 3.4 (Elección y comparación de representantes)**\n",
    "- La parte ***f*** se trata en la **sección 3.5 (Comparación de clasificadores según partido)**"
   ]
  },
  {
   "cell_type": "markdown",
   "metadata": {},
   "source": [
    "## 2. Diseño\n",
    "***\n",
    "En esta sección se detallan las características del modelo implementado, profundizando sobre las estrategias y algoritmos empleados en la configuración paramétrica. También se tratan otros puntos como el procesamiento previo al entrenamiento y la evaluación posterior al mismo."
   ]
  },
  {
   "cell_type": "markdown",
   "metadata": {},
   "source": [
    "### 2.1. Modelo\n",
    "***\n",
    "Para este escenario el modelo propuesto es el de **regresión logística**, un modelo de clasificación que adapta la idea de la **regresión lineal**, es decir, aproximar en base a los ejemplos del corpus una función con codomino continuo, y transformar el resultado continuo en uno discreto, utilizando una **función de probabilidad** y asignando a dicha probabilidad una clase en concreto.\n",
    "\n",
    "Se definen más formalmente las siguientes nociones:\n",
    "* $D =$ Conjunto de entrenamiento\n",
    "* $C_D =$ Conjunto de posibles clasificaciones para $d \\in D$\n",
    "* $RL_D =$ Clasificador de regresión logística generado en base a $D$\n",
    "* Se representa una clasificación de un ejemplo $d \\in D$ realizada por el clasificador $RL_D$ como $RL_D(d) = c : c \\in C_D$"
   ]
  },
  {
   "cell_type": "markdown",
   "metadata": {},
   "source": [
    "### 2.2. Preprocesamiento\n",
    "***\n",
    "Con el objetivo de cumplir parte de las pautas de la consigna, se realizaron ciertos cambios en el conjunto de datos a utilizar. A continuación, se listan los cambios realizados agrupandolos en base a motivación y área cambiada en el conjunto original.\n",
    "\n",
    "#### 2.2.1. Extracción de candidatos y partidos\n",
    "***\n",
    "La consigna requiere la filtración del corpus original, extrayendo aquellos potenciales votantes que votarían a candidatos con menos de 1000 potenciales votos, generando un corpus donde todos los posibles candidatos cuentan con más de 1000 votos. El proceso análogo debería seguirse al filtrar los partidos con más de 1000 votos en el corpus original.\n",
    "\n",
    "De esta forma, el primer preprocesamiento que se realiza al corpus original es la filtración de candidatos y partidos con más de 1000 votos, generando dos corpus nuevos denominados **conjunto de datos por candidato** y **conjunto de datos por partido**. Cabe destacar que ambos conjuntos no cuentan con los mismos ejemplos, ya que existen candidatos con menos de 1000 votos que pertenecen a partidos que, en total, suman más de 1000 votos, por lo que todos los potenciales votantes de esos candidatos son eliminados del primer conjunto pero mantenidos en el segundo.\n",
    "\n",
    "Para implementar dicho filtrado se utilizó la biblioteca _pandas_, más concretamente la clase _DataFrame_.\n",
    "\n",
    "#### 2.2.2. Reducción de dimensionalidad\n",
    "***\n",
    "La consigna requiere la experimentación reduciendo la dimensionalidad del corpus original y determinando con cuantas dimensiones se maximiza la precisión del modelo entrenado.\n",
    "\n",
    "De esta forma, luego de generar el **conjunto de datos por candidato** y el **conjunto de datos por partido**, se brinda la opción de reducir $n : n \\in [1..25]$ dimensiones a ambos conjuntos.\n",
    "\n",
    "Para implementar dicha transformación se utilizó la biblioteca _scikit-learn_, más concretamente la clase _PCA_ del módulo _decomposition_.\n",
    "\n",
    "#### 2.2.3. Separación de conjuntos de entrenamiento y evaluación\n",
    "***\n",
    "La consigna requiere la separación del corpus en dos subconjuntos: un **conjunto de entrenamiento**, representando el 80% del corpus original, y un **conjunto de evaluación**, representando el 20% restante.\n",
    "\n",
    "Una vez procesado el corpus original siguiendo las estrategias anteriormente mencionadas, se procede a generar ambos conjuntos, almacenandolos en el modelo correspondiente.\n",
    "\n",
    "Para implementar dicha partición se utilizó la biblioteca _scikit-learn_, más concretamente la función *train_test_split* del módulo *model_selection*."
   ]
  },
  {
   "cell_type": "markdown",
   "metadata": {},
   "source": [
    "### 2.3. Algoritmo\n",
    "***\n",
    "En la siguiente sección se centralizan todas las especificaciones relativas a los algoritmos empleados, tanto para entrenar como para clasificar. Se detallan las bibliotecas utilizadas, así como la variación paramétrica y sus impactos.\n",
    "\n",
    "#### 2.3.1. Algoritmo de entrenamiento\n",
    "***\n",
    "\n",
    "El algoritmo de entrenamiento implementado para la **regresión logística** sigue las pautas del visto en el teórico. Dado que en esta ocasión no fue necesario desarrollarlo, solamente se mencionaran sin entrar en detalle aquellos aspectos teóricos o algorítmicos relativos al mismo.\n",
    "\n",
    "La biblioteca utilizada fue *scikit-learn*, tomando la implementación de la clase *LogisticRegression* del módulo *linear_model*. El método que ajusta el modelo al corpus en concreto es **_LogisticRegression.fit_**. La clase en cuestión permite realizar el entrenamiento en función de múltiples parámetros, dando a lugar a distintas configuraciones paramétricas. Dichos parámetros se detallarán en las siguientes secciones.\n",
    "\n",
    "Como breve repaso del funcionamiento del algoritmo, utilizando un método de aproximación en concreto, se realiza una suerte de interpolación utilizando los ejemplos del corpus y sus clasificaciones como guía, generando de esta forma una función que permite generar nuevas clasificaciones. El parámetro **_solver_** permite determinar que algoritmo de aproximación utilizar. Las opciones disponibles son las siguientes:\n",
    "- **Algoritmo de Newton** (_newton-cg_): Dicho algoritmo permite aproximar funciones utilizando además del gradiente, la **matriz hessiana**. Dado que debe computar la matriz, es computacionalmente costoso, pudiendo además quedar atascado en un **punto silla**, el cual es un tipo particular de **punto de inflexión** que no es extremo local pero tiene gradiente nulo. Dada la naturaleza del algoritmo, es particularmente bueno para aproximar a funciones cuadráticas.\n",
    "<br><br>\n",
    "- **Algoritmo de memoria limitada Broyden–Fletcher–Goldfarb–Shanno** (_lbfgs_): Perteneciente a la familia de algoritmos similares al **algoritmo de Newton**, **_LBFGS_** computa una aproximación de la **matriz hessiana** para aproximar la función objetivo, por lo que es computacionalmente menos costoso que el anteriormente mencionado, funcionando mejor con conjuntos de datos con pocos ejemplos. \n",
    "<br><br>\n",
    "- **Algoritmo Liblinear** (_liblinear_): El algoritmo utilizado por defecto, basado en la biblioteca homónima de _C++_. Se basa en la idea del **descenso por coordenadas**, por lo que puede quedar atascado en un **punto de inflexión** que no sea extremo local. Tiene buenos resultados en conjuntos de datos con pocos ejemplos.\n",
    "<br><br>\n",
    "- **Algoritmo de Promedio Estocástico de Gradiente** (_sag_): Este algoritmo pertenece a la familia de los que implementan **descenso por gradiente estocástico**, siendo particularmente bueno para conjuntos de datos grandes con muchos atributos. Esto está relacionado al hecho de que el costo es independiente los términos de la suma (atributos).\n",
    "<br><br>\n",
    "- **Algoritmo de Promedio Estocástico de Gradiente Avanzado** (_saga_): Esta inspirado en el algoritmo **_SAG_**, incorporando conceptos de otro método denominado **_SVRG_** (_Stochastic Variance Reduced Gradient_, Reducción de Varianza por Gradiente Estocástico). Esto permite implementar otro tipo de penalización durante el entrenamiento (en la sección 2.3.4. se expande este punto).\n",
    "\n",
    "#### 2.3.2. Algoritmo de clasificación\n",
    "***\n",
    "El algoritmo de clasificación implementado para la **regresión logística** sigue las pautas del visto en el teórico. Dado que en esta ocasión no fue necesario desarrollarlo, solamente se mencionaran sin entrar en detalle aquellos aspectos teóricos o algorítmicos relativos al mismo.\n",
    "\n",
    "La biblioteca utilizada fue *scikit-learn*, tomando la implementación de *LogisticRegression* del módulo *linear_model*. El método que ajusta el modelo al corpus en concreto es **_LogisticRegression.predict_**. La clase en cuestión permite realizar el entrenamiento en función de múltiples parámetros, pudiendo generar distintos clasificadores, lo cual afectaría el algoritmo de clasificación empleado. El parámetro ***multi_class*** permite determinar que enfoque utilizar.\n",
    "\n",
    "En el contexto de esta tarea se utilizó únicamente un modelo **_One-Versus-Rest_** (_ovr_), el cual coincide con el visto en el teórico. Como breve repaso del funcionamiento del algoritmo, por cada clase $c \\in C_D$ se genera una aproximación utilizando **regresión lineal**, separando los ejemplos entre aquellos con clasificación $c$ y aquellos con clasificación distinta a $c$. De esta forma, al clasificar un nuevo ejemplo, se obtiene la probabilidad de que dicho ejemplo pertenezca a cada clase $c \\in C_D$, devolviendose la clase correspondiente a la probabilidad mayor.\n",
    "\n",
    "#### 2.3.3. Parámetros - Normalización\n",
    "***\n",
    "Debido al método de entrenamiento, la diferencia entre los intervalos de cada atributo puede afectar negativamente a la aproximación de la función de clasificación. Es por esto que se introduce la posibilidad de **normalizar** dichos intervalos, con el objetivo de llevar todos los atributos a la misma escala.\n",
    "\n",
    "Dado que en este escenario los atributos del corpus (es decir, las respuestas a las preguntas) toman valores en el mismo intervalo $[1..5]$, no es necesario hacer una normalización de los datos de entrada.\n",
    "\n",
    "#### 2.3.4. Parámetros - Regularización y penalización\n",
    "***\n",
    "Debido al método de entrenamiento, es posible que el algoritmo **sobreajuste** la aproximación de la función de clasificación. Si ocurre un sobreajuste, se pierde la capacidad de generalización del algoritmo, pudiendo fallar notoriamente en clasificaciones de ejemplos no vistos. De esta forma, se agrega el concepto de **regularización**, siendo el proceso utilizado para evitar que la regresión se sobreajuste a los datos de entrenamiento.\n",
    "\n",
    "La técnica, de forma simplificada, consiste en agregar un componente de penalización a la función de costo a minimizar. Dicho componente sigue cierta **estrategia de penalización** y en ciertos casos utiliza un **coeficiente de regularización**. La clase en cuestión ofrece parámetros para determinar ambos.\n",
    "\n",
    "Por un lado, el parámetro **_penalty_** permite determinar que **algoritmo de regularización** utilizar, más concretamente, que norma de penalización implementar. Las opciones disponibles son las siguientes:\n",
    "- **L1 - Regularización Lasso**: A .\n",
    "\n",
    "    $$Error_{L1}(\\theta) = Error + \\sum_{j=1}^n |\\theta_j|$$\n",
    "    \n",
    "    La documentación de _scikit-learn_ establece que solo los modelos entrenados con **_solver_** = _liblinear_, _saga_ pueden utilizar esta estrategia de penalización.\n",
    "<br><br>\n",
    "- **L2 - Regularización Ridge**: A .\n",
    "\n",
    "    $$Error_{L2}(\\theta) = Error + \\lambda \\sum_{j=1}^n \\theta_j^2$$\n",
    "    \n",
    "    Esta es la única estrategia de penalización que es admitida por cualquier **_solver_**.\n",
    "<br><br>\n",
    "- **L1/L2 - Regularización ElasticNet**: Dicha estrategia combina las dos anteriores. La documentación de _scikit-learn_ establece que solo los modelos entrenados con **_solver_** = _saga_ pueden utilizar esta estrategia de penalización, no obstante, al intentarlo se obtuvo un error, por lo que esta estrategia fue dejada de lado.\n",
    "\n",
    "Por otra parte, el parámetro **_C_** permite determinar un valor para el **coeficiente de regularización** (el cual representa a $\\lambda$ en **L2**). El parámetro representa al inverso de la fuerza de regularización, por lo tanto debe ser un valor positivo distinto de 0. Por defecto su valor es $1.0$. Si se toma un valor muy grande, se puede producir un subajuste y si el valor es muy pequeño, se puede sobreajustar sobre los ejemplos de entrenamiento.\n",
    "\n",
    "#### 2.3.5. Parámetros - Convergencia e iteraciones\n",
    "***\n",
    "Independiente al **_solver_** implementado, es posible que el algoritmo de entrenamiento demore mucho en converger o directamente no lo haga. Para evitar eso, se establecen dos parámetros: una **tolerancia** y un **máximo de iteraciones**.\n",
    "\n",
    "El parámetro **_tol_** representa a la tolerancia, determinando una cota inferior para el error entre iteraciones. Si el error es menor a la tolerancia, se considera que el algoritmo converge, finalizando. El parámetro toma por defecto el valor $1e^{-4} = 0.0001$.\n",
    "\n",
    "El parámetro ***max_iter*** representa el máximo de iteraciones por entrenamiento, determinando una cota superior para la cantidad de iteraciones a ejecutar. Si se alcanza dicha cantidad y el algoritmo no converge, se retorna la función obtenida hasta ese momento, finalizando el entrenamiento. El parámetro toma por defecto el valor $100$."
   ]
  },
  {
   "cell_type": "markdown",
   "metadata": {},
   "source": [
    "### 2.4. Evaluación\n",
    "***\n",
    "En la siguiente sección se centralizan todas las especificaciones relativas a la evaluación de los clasificadores entrenados.\n",
    "\n",
    "#### 2.4.1. Métodos\n",
    "***\n",
    "\n",
    "Se experimentó utilizando dos estrategias de evaluación, siendo las mismas:\n",
    "- **Validación 80/20** (denominada \"normal\" a partir de ahora)\n",
    "- **Validación cruzada** con 5 particiones (denominada \"cruzada\" a partir de ahora)\n",
    "\n",
    "Ambas estrategias subdividen el conjunto de datos $D$ en dos subconjuntos, $T, E \\subset D$. El subconjunto $T$ se utiliza para entrenar al clasificador en cuestión, mientras que el subconjunto $E$ se utiliza para evaluar la eficacia del mismo. Esto se logra haciendo que el modelo entrenado clasifique los ejemplos del conjunto de evaluación $E$, comparando luego la clasificación original con la realizada. Dicha comparación se basa en distintas métricas, las cuales se tratan en la subsección siguiente.\n",
    "\n",
    "Es importante destacar que, independiente al método de evaluación, el conjunto de datos $D$ original se mezcla de forma aleatoria antes de subdividirlo en $T$ y $E$. Esto es vital para evitar repetir siempre el mismo resultado en distintas evaluaciones. \n",
    "\n",
    "Como se mencionó en la sección 2.2, el corpus original fue subdividido en **conjunto de entrenamiento** y **conjunto de evaluación**. A continuación, se detalla la forma en la que cada método de evaluación emplea dichos conjuntos, así como las bibliotecas que utiliza:\n",
    "\n",
    "- **Validación normal:** Este método se implementó utilizando directamente las subdivisiones **conjunto de entrenamiento** y **conjunto de evaluación**. Más concretamente, una vez entrenado el modelo utilizando el **conjunto de entrenamiento**, se procede a clasificar el **conjunto de evaluación** con dicho modelo entrenado, con el objetivo de comparar la clasificación obtenida con la real, extrayendo distintas métricas de dicha comparación.\n",
    "    \n",
    "    Como ya se mencionó, se utilizó la biblioteca _scikit-learn_, más concretamente la función *train_test_split* del módulo *model_selection*. Dicha función cuenta con parámetros como ***test_size*** o ***train_size*** (por defecto $1 -$ ***test_size***) que permiten establecer la proporción del corpus original para utilizar como conjunto de evaluación y entrenamiento respectivamente, o el parámetro ***shuffle*** (por defecto _True_) el cual establece si se mezcla aleatoriamente el corpus antes de separarlo. Se implementaron valores de ***test_size*** = $0.2$ y  ***shuffle*** = _True_.\n",
    "<br><br>\n",
    "- **Validación cruzada:** A diferencia del anterior, este método se implementó únicamente sobre el **conjunto de entrenamiento**. Se denomina como **validación cruzada** a la partición del corpus $D$ en $k$ particiones $T_i$ y $E_i : i \\in [1..k]$,  utilizando una proporción de $\\frac{k-1}{k}$ y $\\frac{1}{k}$ ejemplos para $T_i$ y $E_i$ respectivamente. Esta estrategia es más robusta que la **validación normal** anteriormente mencionada, sin embargo tiene el problema de tener un mayor orden computacional, dado que tiene que correr $k$ entrenamientos en lugar de uno.\n",
    "    \n",
    "    En este caso, se utilizó la biblioteca _scikit-learn_, más concretamente la función *cross_val_predict* del módulo *model_selection*. Dicha función cuenta con parámetros como **_cv_** para indicar el valor del **k** a utilizar para realizar las particiones. A diferencia del método anterior, esta función realiza el entrenamiento y la clasificación por su cuenta, devolviendo los promedios de las métricas obtenidas para la evaluación de cada partición.\n",
    "\n",
    "#### 2.4.2. Métricas\n",
    "***\n",
    "Se utilizaron múltiples métricas para determinar la \"calidad\" o \"eficacia\" de los clasificadores entrenados. A continuación, una breve descripción de las mismas:\n",
    "\n",
    "##### 2.4.2.1 Accuracy\n",
    "***\n",
    "La **accuracy** o **exactitud** hace referencia a la cantidad de aciertos que el clasificador tuvo en relación al total de clasificaciones que realizó durante la evaluación. Para definir **accuracy**, se utilizan las siguientes nociones:\n",
    "- Sea $D$ el conjunto de datos, $C_D$ el conjunto de posibles clasificaciones en $D$ y $|C_D| = n$\n",
    "- Sea $t_i : i \\in [1..n]$ la cantidad de clasificaciones para la clase $i$ que fueron correctas\n",
    "- Sea $f_i : i \\in [1..n]$ la cantidad de clasificaciones para la clase $i$ que fueron incorrectas\n",
    "\n",
    "$$ accuracy = \\frac{\\sum_{i=1}^{n} t_i}{\\sum_{i=1}^{n} t_i + f_i}$$\n",
    "\n",
    "Se observa que **accuracy** no es una muy buena medida de performance, ya que depende mucho del conjunto de datos que se evalúe, pudiendo dar buenos resultados a un clasificador malo. No obstante, otorga una idea general sobre el modelo, por lo que, a pedido de la letra, se utilizó para establecer un ordenamiento entre modelos entrenados según distintas configuraciones paramétricas.\n",
    "\n",
    "Para calcular esta métrica se utilizó la biblioteca _scikit-learn_, más concretamente la función *accuracy_score* del módulo _metrics_. Dicha función sólo necesita el vector de clasificaciones y el vector original como parámetros.\n",
    "\n",
    "##### 2.4.2.2 Matriz de Confusión\n",
    "***\n",
    "La **matriz de confusión** es una matriz que permite almacenar todas las clasificaciones realizadas en una evaluación, basándose en cada resultado y su respectivo valor original. La estructura de la matriz es la siguiente:\n",
    "\n",
    "- Sea $D =$ Conjunto de datos\n",
    "- Sea $C_D =$ Conjunto de clasificaciones para $d \\in D$ \n",
    "- Sea $|C_D| = n$ cantidad de posibles clasificaciones en $C_D$\n",
    "- Sea $M$ la matriz de confusión para una evaluación definida como:\n",
    "\n",
    "$$M = \\begin{bmatrix}\n",
    "    x_{11} & x_{12} & \\dots  & x_{1n} \\\\\n",
    "    x_{21} & x_{22} & \\dots  & x_{2n} \\\\\n",
    "    \\vdots & \\vdots & \\ddots & \\vdots \\\\\n",
    "    x_{n1} & x_{n2} & \\dots  & x_{nn}\n",
    "\\end{bmatrix}$$\n",
    "\n",
    "- Entonces $x_{ij} \\in M : i,j \\in [1..n]$ representa la cantidad de clasificaciones que originalmente eran **clase $i$** y que fueron clasificadas en la evaluación como **clase $j$**.\n",
    "\n",
    "De esta forma, en una matriz cuadrada de dimensión $n$, se pueden centralizar todas las clasificaciones realizadas y su relación con respecto a cada clase.\n",
    "\n",
    "En sí misma, la matriz de confusión no representa una métrica sino una herramienta para calcular otras métricas, las cuales serán detalladas a continuación. De todas formas, una mirada superficial a una matriz de confusión de tamaño razonable puede aportar información general sobre el desempeño del clasificador (esto es detallado en la siguiente subsección).\n",
    "\n",
    "Para calcular obtener la matriz se utilizó la biblioteca _scikit-learn_, más concretamente la función *confusion_matrix* del módulo _metrics_. Dicha función sólo necesita el vector de clasificaciones y el vector original como parámetros.\n",
    "\n",
    "##### 2.4.2.3 Precision, Recall, F-measure\n",
    "***\n",
    "Existen tres medidas que, si bien siguen una fórmula similar a la de **accuracy**, son mucho menos sensibles al ruido en el conjunto de datos $D$, ya que operan **por clase**. Antes de detallar cada una, se repasan ciertas nociones básicas utilizadas en la definición de cada métrica.\n",
    "\n",
    "Retomando el punto anterior, la matriz de confusión permite calcular para cada clase $c_i$, cuatro valores indispensables:\n",
    "- Los **verdaderos positivos** en la clase $c_i$ (denotados como $t_i$), son aquellos ejemplos que originalmente son clase $c_i$ y fueron clasificados correctamente en la evaluación como clase $c_i$. Para calcularlos utilizando la matriz de confusión, simplemente hay que tomar la celda $M(i,i)$ para la clase $c_i$.\n",
    "\n",
    "$$ t_i = M(i,i) $$\n",
    "\n",
    "- Los **falsos positivos** en la clase $c_i$ (denotados como $f_i$), son aquellos ejemplos que originalmente son clase $c_j : j \\neq i$ y fueron clasificados incorrectamente en la evaluación como clase $c_i$. Para calcularlos utilizando la matriz de confusión, simplemente hay que tomar la fila $M_{(i,)}$ para la clase $c_i$, y sumar todos sus valores (excepto la celda $M(i,i)$, que corresponde a los verdaderos positivos).\n",
    "\n",
    "$$ f_i = \\sum_{j=1, j \\neq i}^{n} M(i,j) $$\n",
    "\n",
    "- Los **verdaderos negativos** en la clase $c_i$ (denotados como $\\bar{t_i}$), son aquellos ejemplos que originalmente no son clase $c_i$ y fueron clasificados en la evaluación como clase $c_j : j \\neq i$. Cabe destacar que la clasificación como $c_j$ puede ser correcta o no, lo importante es que sea consistente en relación a $c_i$. Para calcularlos utilizando la matriz de confusión, simplemente hay que tomar la matriz adjunta a los verdaderos positivos de $c_i$ y sumar todas sus entradas. Dicha matriz se define como $M_{ii}$ y contiene todas las entradas de $M$ excepto la fila $i$ y la columna $i$.\n",
    "\n",
    "$$ \\bar{t_i} = \\sum_{j=1}^{n-1} \\sum_{k=1}^{n-1} M_{ii}(j,k) $$\n",
    "\n",
    "- Los **falsos negativos** en la clase $c_i$ (denotados como $\\bar{f_i}$), son aquellos ejemplos que originalmente son clase $c_i$ y fueron clasificados incorrectamente en la evaluación como clase $c_j : j \\neq i$. Para calcularlos utilizando la matriz de confusión, simplemente hay que tomar la columna $M_{(,i)}$ para la clase $c_i$, y sumar todos sus valores (excepto la celda $M(i,i)$, que corresponde a los verdaderos positivos).\n",
    "\n",
    "$$ \\bar{f_i} = \\sum_{j=1, j \\neq i}^{n} M(j,i) $$\n",
    "\n",
    "Teniendo en cuenta dichas definiciones, se pasa a definir las métricas utilizadas:\n",
    "- **Precision**\n",
    "> - La **precision** o precisión de una **clase $c_i$** hace referencia a la cantidad de clasificaciones correctas para dicha clase, en relación a la cantidad de clasificaciones totales (correctas e incorrectas) para dicha clase.\n",
    "> - La precision permite determinar \"que tan bien se clasifica una clase\". En otras palabras, que tan poco se equivoca el clasificador en marcar un ejemplo como cierta clase.\n",
    "> - Oscila entre 0 y 1, siendo mejor cuanto **mayor** es.\n",
    "> - Se calcula como:\n",
    "> $$ precision(c_i) = \\frac{t_i}{t_i + f_i}$$\n",
    "\n",
    "- **Recall**\n",
    "> - La **recall** o recuperación de una **clase $c_i$** hace referencia a la cantidad de clasificaciones correctas para dicha clase, en relación a la cantidad de clasificaciones originales para dicha clase.\n",
    "> - La recall permite determinar \"que tan bien se clasifican elementos de otras clases respecto a una clase\". En otras palabras, que tan poco se equivoca el clasificador en marcar un ejemplo de otras clases como cierta clase.\n",
    "> - Oscila entre 0 y 1, siendo mejor cuanto **mayor** es.\n",
    "> - Se calcula como:\n",
    "> $$ recall(c_i) = \\frac{t_i}{t_i + \\bar{f_i}}$$\n",
    "\n",
    "- **F-measure**\n",
    "> - La **F-measure** o medida-F de una **clase $c_i$** es una medida que relaciona **precision** y **recall**, oficiando de alguna forma como un representante de cierta clase.\n",
    "> - La F-measure permite determinar \"que tan bien se clasifica una clase y que tan poco se falla a la vez\". En otras palabras, es una relación proporcional entre la precision y la recall y por tanto es una buena métrica para determinar el desempeño del clasificador respecto a una clase.\n",
    "> - Oscila entre 0 y 1, siendo mejor cuanto **mayor** es.\n",
    "> - Se calcula como:\n",
    "> $$ Fmeasure(c_i) = \\frac{2 precision(c_i) recall(c_i)}{precision(c_i) + recall(c_i)}$$\n",
    "\n",
    "Si bien estas medidas ofrecen información más enriquecedora en comparación a las anteriormente mencionadas, cuentan con el \"defecto\" de aplicar por clase y no dar una medida general del clasificador. Para conjuntos $D$ con pocas clasificaciones en $C_D$ esto no es un gran problema, pero complica la comparación al aumentar la cantidad de clases. En la siguiente subsección se tratan métricas que tienen como objetivo mejorar este hecho.\n",
    "\n",
    "##### 2.4.3.4 Medidas macro y micro \n",
    "***\n",
    "Existen tres formas de establecer medidas representativas para un modelo sin importar la clase. En este escenario se utilizaron las tres, siendo las siguientes:\n",
    "\n",
    "- **Promedios macro:** \n",
    "> - El promedio macro de una métrica dada consiste en la suma de las métricas para cada clase dividida por la cantidad de clases.\n",
    "> - Otorga una noción del desempeño general del clasificador en relación a la métrica dada. \n",
    "> - Sea $D$ el conjunto de datos\n",
    "> - Sea $C_D$ el conjuntos de posibles clases\n",
    "> - Sea $|C_D| = n$\n",
    "> - El promedio macro se calcula como:\n",
    "> $$ metrica_{macro} = \\frac{\\sum_{i=1}^{n} metrica(c_i)}{n}$$\n",
    "\n",
    "- **Promedios micro:** \n",
    "> - El promedio micro de una métrica dada consiste en el cálculo de la métrica en cuestión utilizando los valores para cada clase en una misma fórmula.\n",
    "> - Otorga una noción del desempeño general del clasificador en relación a la métrica dada, difiriendo del promedio marco en conjuntos donde ciertas clases cuentan con más ejemplos que el resto. \n",
    "> - Sea $D$ el conjunto de datos\n",
    "> - Sea $C_D$ el conjuntos de posibles clases\n",
    "> - Sea $|C_D| = n$\n",
    "> - El promedio micro se calcula como:\n",
    "> $$ metrica_{micro} = \\frac{\\sum_{i=1}^{n} t_i}{\\sum_{i=1}^{n} t_i + f_i}$$\n",
    "\n",
    "- **Promedios ponderados:**\n",
    "> - El promedio ponderado de una métrica dada consiste en la suma de las métricas para cada clase ponderada por la proporción de ejemplos en el conjunto de datos para dicha clase.\n",
    "> - Otorga una noción del desempeño del clasificador en relación a la métrica dada, ignorando el ruido generado por mal desempeño en clases con menor cantidad de ejemplos (en otras palabras, es particularmente útil ante conjuntos de datos con una distribución nada uniforme en las clasificaciones de sus ejemplos).\n",
    "> - Sea $D$ el conjunto de datos\n",
    "> - Sea $C_D$ el conjuntos de posibles clases\n",
    "> - Sea $|C_D| = n$\n",
    "> - Sea $c_i \\in C_D$ la i-ésima clase en $C_D$\n",
    "> - Sea $D_i \\subseteq D$ el conjunto de ejemplos clasificados con clase $c_i$\n",
    "> - El promedio ponderado se calcula como:\n",
    "> $$ metrica_{ponderada} = \\sum_{i=1}^{n} metrica(c_i) * \\frac{|D_i|}{|D|}$$\n",
    "\n",
    "Para calcular dichas métricas se utilizó la biblioteca _scikit-learn_, más concretamente la función *classification_report* del módulo _metrics_. Dicha función sólo necesita el vector de clasificaciones y el vector original como parámetros."
   ]
  },
  {
   "cell_type": "markdown",
   "metadata": {},
   "source": [
    "## 3. Experimentación\n",
    "***\n",
    "En esta sección se detalla el conjunto de pruebas realizadas, agregándose observaciones pertinentes, comparaciones entre modelos y trabajando las pautas de la consigna."
   ]
  },
  {
   "cell_type": "markdown",
   "metadata": {},
   "source": [
    "### 3.1. Metodología\n",
    "***\n",
    "Con el objetivo de cubrir la consigna y obtener la mayor cantidad de información posible sobre el rendimiento de cada clasificador a generar, la exprimentación se encaró diviendola en las siguientes etapas:\n",
    "\n",
    "1. **Partición y evaluación del corpus:** Se realizaron las filtraciones y particiones pertinentes a la parte ***a*** y ***b*** (mencionadas en la sección 2.2), monitoreando la correctitud y el impacto de dichas acciones sobre el corpus original.\n",
    "<br><br>\n",
    "2. **Configuraciones paramétricas:** Una vez obtenidos los subconjuntos del corpus necesarios, se definieron las distintas configuraciones paramétricas a utilizar para entrenar cada modelo.\n",
    "<br><br>\n",
    "3. **Elección y comparación de representantes:** Se entrenó cada.\n",
    "<br><br>\n",
    "4. **Comparación de clasificadores según partido (f):** Luego de obtener los mejores clasificadores de candidatos y de partidos, se procedió a comparar el rendimiento de los clasificadores de partidos ."
   ]
  },
  {
   "cell_type": "markdown",
   "metadata": {},
   "source": [
    "### 3.2. Partición y evaluación del corpus\n",
    "***\n",
    "Aquí se va a monitorear cómo afecta al corpus el preprocesamiento realizado. Vamos a mostrar cómo de distribuyen los votos de cada candidato/partido separando entre aquellos con más de mil votantes y con menos de mil votantes. Y también vamos a monitorear el explained variance ratio luego de reducir dimensiones con PCA.\n"
   ]
  },
  {
   "cell_type": "code",
   "execution_count": 1,
   "metadata": {
    "scrolled": false
   },
   "outputs": [
    {
     "name": "stdout",
     "output_type": "stream",
     "text": [
      "Candidatos con más de 1000 votos: \n",
      "1 - Oscar Andrade\n",
      "2 - Mario Bergara\n",
      "3 - Carolina Cosse\n",
      "4 - Daniel Martinez\n",
      "9 - Luis Lacalle Pou\n",
      "10 - Jorge Larranaga\n",
      "11 - Juan Sartori\n",
      "16 - Julio Maria Sanguinetti\n",
      "17 - Ernesto Talvi\n",
      "18 - Pablo Mieres\n",
      "20 - Edgardo Novick\n",
      "\n",
      "Candidatos con menos de 1000 votos: \n",
      "5 - Veronica Alonso\n",
      "6 - Enrique Antia\n",
      "7\n",
      "8 - Carlos Iafigliola\n",
      "12 - Jose Amorin Batlle\n",
      "13 - Pedro Etchegaray\n",
      "14 - Edgardo Martinez Zimarioff\n",
      "15 - Hector Rovira\n",
      "19 - Gonzalo Abella\n",
      "21 - Cesar Vega\n",
      "22 - Rafael Fernandez\n",
      "23 - Justin Graside\n",
      "24 - Gustavo Salle\n",
      "25 - Carlos Techera\n",
      "30\n",
      "\n"
     ]
    },
    {
     "data": {
      "image/png": "[encoded data removed]",
      "text/plain": [
       "<Figure size 1440x576 with 2 Axes>"
      ]
     },
     "metadata": {
      "needs_background": "light"
     },
     "output_type": "display_data"
    },
    {
     "name": "stdout",
     "output_type": "stream",
     "text": [
      "Partidos con más de 1000 votos: \n",
      "0 - Frente Amplio\n",
      "1 - La Alternativa\n",
      "2 - Partido Colorado\n",
      "5 - Partido de la Gente\n",
      "6 - Partido Nacional\n",
      "\n",
      "Partidos con menos de 1000 votos: \n",
      "3 - Partido Ecologista Radical Intransigente\n",
      "4 - Partido Digital\n",
      "7 - Partido de los Trabajadores\n",
      "8 - Partido Verde Animalista\n",
      "9 - Unidad Popular\n",
      "10 - Partido de Todos\n",
      "\n"
     ]
    },
    {
     "data": {
      "image/png": "[encoded data removed]",
      "text/plain": [
       "<Figure size 1440x576 with 2 Axes>"
      ]
     },
     "metadata": {
      "needs_background": "light"
     },
     "output_type": "display_data"
    },
    {
     "data": {
      "image/png": "[encoded data removed]",
      "text/plain": [
       "<Figure size 864x432 with 1 Axes>"
      ]
     },
     "metadata": {
      "needs_background": "light"
     },
     "output_type": "display_data"
    },
    {
     "data": {
      "image/png": "[encoded data removed]",
      "text/plain": [
       "<Figure size 864x432 with 1 Axes>"
      ]
     },
     "metadata": {
      "needs_background": "light"
     },
     "output_type": "display_data"
    }
   ],
   "source": [
    "# Script 1 - Filtrado, partición y evaluación del corpus\n",
    "# Correspondiente a parte (a) y (b)\n",
    "\n",
    "# DEPENDENCIAS\n",
    "# -----------------------------------------------------\n",
    "import os\n",
    "import sys\n",
    "sys.path.insert(1, os.path.join(sys.path[0], '..'))\n",
    "import evaluation.evaluator as evaluator\n",
    "import utils.gui as gui\n",
    "import processing.reader as reader\n",
    "import plotting.corpusPlotting as corpusPlotting\n",
    "import plotting.pcaPlotting as pcaPlotting\n",
    "from utils.const import DATA_ENCUESTAS, SolverOps, PenaltyOps\n",
    "from sklearn.model_selection import train_test_split\n",
    "%matplotlib inline \n",
    "\n",
    "# FILTRACIÓN\n",
    "# -----------------------------------------------------\n",
    "\n",
    "# Leer dataset de respuestas a encuesta separando entre candidatos con más y menos de 1000 votos\n",
    "datasetCandidatosMasMil = reader.readDatasetCandidatosMasMil('../' + DATA_ENCUESTAS, options={'from_notebook': True})\n",
    "datasetCandidatosMenosMil = reader.readDatasetCandidatosMenosMil('../' + DATA_ENCUESTAS, options={'from_notebook': True})\n",
    "\n",
    "# Leer dataset de respuestas a encuesta separando entre partidos con más y menos de 1000 votos\n",
    "datasetPartiesMasMil = reader.readDatasetPartiesMasMil('../' + DATA_ENCUESTAS, options={'from_notebook': True})\n",
    "datasetPartiesMenosMil = reader.readDatasetPartiesMenosMil('../' + DATA_ENCUESTAS, options={'from_notebook': True})\n",
    "\n",
    "# PARTICIÓN\n",
    "# -----------------------------------------------------\n",
    "\n",
    "datasetCMasMil, candidatesCMasMil = datasetCandidatosMasMil\n",
    "datasetPMasMil, partiesPMasMil = datasetPartiesMasMil\n",
    "\n",
    "# Separar en conjunto de entrenamiento (80%) y conjunto de evaluación (20%)\n",
    "dataset_candidates, testset_candidates, candidates, testset_candidates_results = train_test_split(datasetCMasMil, candidatesCMasMil, test_size=0.2)\n",
    "dataset_parties, testset_parties, parties, testset_parties_results = train_test_split(datasetPMasMil, partiesPMasMil, test_size=0.2)\n",
    "\n",
    "# EVALUACIÓN\n",
    "# -----------------------------------------------------\n",
    "\n",
    "# Leer datos de partidos y candidatos de los JSON.\n",
    "candidatesJSON = reader.readCandidates(options = {'from_notebook': True})\n",
    "partiesJSON = reader.readParties(options = {'from_notebook': True})\n",
    "\n",
    "# Graficar distribución de votantes según candidato y partido\n",
    "corpusPlotting.plotCorpus(datasetCandidatosMasMil, datasetCandidatosMenosMil, datasetPartiesMasMil, datasetPartiesMenosMil, candidatesJSON, partiesJSON)\n",
    "\n",
    "# Graficar ratio de varianza para cada dimensión\n",
    "pcaPlotting.plotPCA(datasetCandidatosMasMil, 'Candidatos')\n",
    "pcaPlotting.plotPCA(datasetPartiesMasMil, 'Partidos')"
   ]
  },
  {
   "cell_type": "markdown",
   "metadata": {},
   "source": [
    "Como se ve en la gráfica de ratio de varianza contra número de componentes, luego de cierto número de componentes (5 por ejemplo), el porcentaje de varianza aumenta de manera uniforme. En el laboratorio anterior ya habíamos notado este comportamiento utilizando una implementación propia de PCA."
   ]
  },
  {
   "cell_type": "markdown",
   "metadata": {},
   "source": [
    "### 3.3. Configuración paramétrica\n",
    "***\n",
    "A\n",
    "\n",
    "#### 3.3.1. Evaluaciones\n",
    "***\n",
    "En resumen, para nuestra implementación de regresión logística usando la librería sci-kit learn vamos a variar los siguientes parámetros del modelo:\n",
    "\n",
    "- **solver**: Los valores a variar son newton-cg, lbfgs,liblinear, sag y saga.\n",
    "- **penalty**: Los valores a variar son l2, l1 y None. \n",
    "- **max_iter**: Este valor por defecto probamos con 1000 iteraciones.\n",
    "- **C**: Este valor es el inverso del regularization strength. Como se mencionó debe ser un valor positivo mayor que cero.\n",
    "\n",
    "Para el parámetro **multi_class** se fija el valor 'ovr' (one-versus-rest) dado que buscamos una clasificación multiclase compuesta por varios clasificadores binarios donde cada uno clasifica su clase y luego se decide según el que devuelva un valor máximo entre ellos.\n",
    "\n",
    "#### 3.3.2. Resultados\n",
    "***\n",
    "A\n"
   ]
  },
  {
   "cell_type": "markdown",
   "metadata": {},
   "source": [
    "### 3.4. Elección y comparación de representantes\n",
    "***\n",
    "A\n",
    "\n",
    "#### 3.4.1. Análisis cuantitativo\n",
    "***\n",
    "A\n"
   ]
  },
  {
   "cell_type": "code",
   "execution_count": null,
   "metadata": {},
   "outputs": [],
   "source": [
    "# Script que evalúa con cross validation cada configuración paramétrica y las devuelve ordenadas por accuracy\n",
    "# Devuelve los 4 mejores que son: Candidatos sin PCA, Partidos sin PCA, Candidatos con PCA y Partidos con PCA"
   ]
  },
  {
   "cell_type": "markdown",
   "metadata": {},
   "source": [
    "#### 3.4.2. Análisis cualitativo\n",
    "***\n",
    "A\n"
   ]
  },
  {
   "cell_type": "code",
   "execution_count": null,
   "metadata": {},
   "outputs": [],
   "source": [
    "# Script que grafica métricas de los módulos elegidos con el anterior script\n",
    "# Se grafica en barras las metricas, en mapa de calor las matrices de confusión"
   ]
  },
  {
   "cell_type": "markdown",
   "metadata": {},
   "source": [
    "#### 3.4.3. Representantes elegidos\n",
    "***\n",
    "A\n"
   ]
  },
  {
   "cell_type": "markdown",
   "metadata": {},
   "source": [
    "### 3.5. Comparación de clasificadores según partido\n",
    "***\n",
    "A\n"
   ]
  },
  {
   "cell_type": "code",
   "execution_count": null,
   "metadata": {},
   "outputs": [],
   "source": [
    "# Script que evalúa con cross validation a los representantes de candidatos y sustituye sus candidatos por partidos,\n",
    "# comparando rendimiento con representantes de partidos\n",
    "# Tambien grafica métricas en barras, mapa de calor de matrices de confusión"
   ]
  },
  {
   "cell_type": "markdown",
   "metadata": {},
   "source": [
    "## 4. Conclusiones\n",
    "***\n",
    "\n",
    "#### 4.1. Respecto a los Datos\n",
    "***\n",
    "- A\n",
    "\n",
    "#### 4.2. Respecto a los Parámetros\n",
    "***\n",
    "- A\n",
    "\n",
    "#### 4.3. Respecto a los Resultados\n",
    "***\n",
    "- A"
   ]
  },
  {
   "cell_type": "markdown",
   "metadata": {},
   "source": [
    "## 5. Referencias\n",
    "***\n",
    "[1] **Documentación oficial de Scikit-Learn** - https://scikit-learn.org/stable/documentation.html\n",
    "\n",
    "[2] **Minimizing Finite Sums with the Stochastic Average Gradient** - https://hal.inria.fr/hal-00860051/document\n",
    "\n",
    "[3] **SAGA: A Fast Incremental Gradient Method With Support for Non-Strongly Convex Composite Objectives** - https://arxiv.org/pdf/1407.0202.pdf\n"
   ]
  }
 ],
 "metadata": {
  "kernelspec": {
   "display_name": "Python 3",
   "language": "python",
   "name": "python3"
  },
  "language_info": {
   "codemirror_mode": {
    "name": "ipython",
    "version": 3
   },
   "file_extension": ".py",
   "mimetype": "text/x-python",
   "name": "python",
   "nbconvert_exporter": "python",
   "pygments_lexer": "ipython3",
   "version": "3.7.1"
  }
 },
 "nbformat": 4,
 "nbformat_minor": 2
}
