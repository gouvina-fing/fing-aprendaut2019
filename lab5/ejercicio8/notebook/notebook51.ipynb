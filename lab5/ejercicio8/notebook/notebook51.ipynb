{
 "cells": [
  {
   "cell_type": "markdown",
   "metadata": {},
   "source": [
    "# Entrega 5.1 - Clasificador (Regresión Logística)\n",
    "\n",
    "### Grupo 07:\n",
    "     - Renzo Gambone C.I. 5.155.486-4\n",
    "     - Germán Ouviña C.I. 4.823.566-1\n",
    "     - Leandro Rodríguez C.I 4.691.736-4\n"
   ]
  },
  {
   "cell_type": "markdown",
   "metadata": {},
   "source": [
    "## 1. Introducción\n",
    "***\n",
    "### 1.1. Objetivo\n",
    "***\n",
    "A\n",
    "\n",
    "### 1.2. Entrega\n",
    "***\n",
    "A\n",
    "\n",
    "### 1.3. Estructura\n",
    "***\n",
    "A\n"
   ]
  },
  {
   "cell_type": "markdown",
   "metadata": {},
   "source": [
    "## 2. Diseño\n",
    "***\n",
    "A"
   ]
  },
  {
   "cell_type": "markdown",
   "metadata": {},
   "source": [
    "### 2.1. Modelo\n",
    "***\n",
    "A\n",
    "\n",
    "### 2.2. Preprocesamiento\n",
    "***\n",
    "A\n",
    "\n",
    "#### 2.2.1. Optimización de datos\n",
    "***\n",
    "A\n",
    "\n",
    "#### 2.2.2. Extracción de candidatos y partidos\n",
    "***\n",
    "A\n",
    "\n",
    "#### 2.2.3. Reducción de dimensionalidad\n",
    "***\n",
    "A\n",
    "\n",
    "### 2.3. Algoritmo\n",
    "***\n",
    "A\n",
    "\n",
    "#### 2.2.1. Algoritmo de entrenamiento\n",
    "***\n",
    "Aca hablar de como entrena la regresión logística\n",
    "\n",
    "#### 2.2.2. Algoritmo de clasificación\n",
    "***\n",
    "Aca hablar de como clasifica la regresión logística\n",
    "\n",
    "#### 2.2.3. Parámetros - Normalización\n",
    "***\n",
    "Mencionar que no es necesario\n",
    "\n",
    "#### 2.2.4. Parámetros - Regularización y penalización\n",
    "***\n",
    "Acá hablar de los parámetros L1 L2 y el lambda en la penalizacion\n",
    "\n",
    "#### 2.2.5. Parámetros - Enfoque multiclase\n",
    "***\n",
    "Acá hablar de ovr y multiclass\n",
    "\n",
    "#### 2.2.6. Parámetros - Convergencia e iteraciones\n",
    "***\n",
    "Acá hablar del max_iter\n",
    "\n",
    "\n",
    "### 2.4. Evaluación\n",
    "***\n",
    "A\n",
    "\n",
    "#### 2.4.1. Métodos\n",
    "***\n",
    "A\n",
    "\n",
    "#### 2.4.2. Métricas\n",
    "***\n",
    "A\n"
   ]
  },
  {
   "cell_type": "markdown",
   "metadata": {},
   "source": [
    "## 3. Experimentación\n",
    "***\n",
    "A"
   ]
  },
  {
   "cell_type": "markdown",
   "metadata": {},
   "source": [
    "### 3.1. Metodología\n",
    "***\n",
    "A\n",
    "\n",
    "1. **Evaluación del corpus:** A.\n",
    "<br><br>\n",
    "2. **Configuraciones paramétricas:** A.\n",
    "<br><br>\n",
    "3. **Elección y comparación de representantes:** A.\n",
    "<br><br>\n",
    "4. **Comparación de clasificadores según partido:** A."
   ]
  },
  {
   "cell_type": "markdown",
   "metadata": {},
   "source": [
    "### 3.2. Evaluación del corpus\n",
    "***\n",
    "A\n"
   ]
  },
  {
   "cell_type": "code",
   "execution_count": 2,
   "metadata": {},
   "outputs": [],
   "source": [
    "# Script que grafica métricas del corpus\n",
    "# Se grafica el explained variance ratio para ver mejor k de PCA\n",
    "# Se grafica la distribución de candidatos y partidos con más de 1000 votos"
   ]
  },
  {
   "cell_type": "markdown",
   "metadata": {},
   "source": [
    "### 3.3. Configuración paramétrica\n",
    "***\n",
    "A\n",
    "\n",
    "#### 3.3.1. Evaluaciones\n",
    "***\n",
    "A\n",
    "\n",
    "#### 3.3.2. Resultados\n",
    "***\n",
    "A\n"
   ]
  },
  {
   "cell_type": "code",
   "execution_count": 1,
   "metadata": {},
   "outputs": [],
   "source": [
    "# Script que dada una configuración paramétrica, la entrena y evalúa\n",
    "# Evaluación muestra accuracy, metricas, matriz de confusión"
   ]
  },
  {
   "cell_type": "markdown",
   "metadata": {},
   "source": [
    "### 3.4. Elección y comparación de representantes\n",
    "***\n",
    "A\n",
    "\n",
    "#### 3.4.1. Análisis cuantitativo\n",
    "***\n",
    "A\n"
   ]
  },
  {
   "cell_type": "code",
   "execution_count": null,
   "metadata": {},
   "outputs": [],
   "source": [
    "# Script que evalúa con cross validation cada configuración paramétrica y las devuelve ordenadas por accuracy\n",
    "# Devuelve los 4 mejores que son: Candidatos sin PCA, Partidos sin PCA, Candidatos con PCA y Partidos con PCA"
   ]
  },
  {
   "cell_type": "markdown",
   "metadata": {},
   "source": [
    "#### 3.4.2. Análisis cualitativo\n",
    "***\n",
    "A\n"
   ]
  },
  {
   "cell_type": "code",
   "execution_count": null,
   "metadata": {},
   "outputs": [],
   "source": [
    "# Script que grafica métricas de los módulos elegidos con el anterior script\n",
    "# Se grafica en barras las metricas, en mapa de calor las matrices de confusión"
   ]
  },
  {
   "cell_type": "markdown",
   "metadata": {},
   "source": [
    "#### 3.4.3. Representantes elegidos\n",
    "***\n",
    "A\n"
   ]
  },
  {
   "cell_type": "markdown",
   "metadata": {},
   "source": [
    "### 3.5. Comparación de clasificadores según partido\n",
    "***\n",
    "A\n"
   ]
  },
  {
   "cell_type": "code",
   "execution_count": null,
   "metadata": {},
   "outputs": [],
   "source": [
    "# Script que evalúa con cross validation a los representantes de candidatos y sustituye sus candidatos por partidos,\n",
    "# comparando rendimiento con representantes de partidos\n",
    "# Tambien grafica métricas en barras, mapa de calor de matrices de confusión"
   ]
  },
  {
   "cell_type": "markdown",
   "metadata": {},
   "source": [
    "## 4. Conclusiones\n",
    "***\n",
    "\n",
    "#### 4.1. Respecto a los Datos\n",
    "***\n",
    "- A\n",
    "\n",
    "#### 4.2. Respecto a los Parámetros\n",
    "***\n",
    "- A\n",
    "\n",
    "#### 4.3. Respecto a los Resultados\n",
    "***\n",
    "- A"
   ]
  },
  {
   "cell_type": "markdown",
   "metadata": {},
   "source": [
    "## 5. Referencias\n",
    "***\n",
    "[1] **Teoría analítica de la política** - *Melvin J. Hinich y Michael C. Munger* (2003)\n",
    "\n",
    "[2] **Un centro vacío de candidatos: evaluando modelos espaciales para las elecciones presidenciales en Uruguay** - *Juan Andrés Moraes y Diego Luján (2016)*\n",
    "\n",
    "[3] **The Political Spectrum: A Bi-Dimensional Approach** - *Maurice Bryson y William McDill* (1968)"
   ]
  }
 ],
 "metadata": {
  "kernelspec": {
   "display_name": "Python 3",
   "language": "python",
   "name": "python3"
  },
  "language_info": {
   "codemirror_mode": {
    "name": "ipython",
    "version": 3
   },
   "file_extension": ".py",
   "mimetype": "text/x-python",
   "name": "python",
   "nbconvert_exporter": "python",
   "pygments_lexer": "ipython3",
   "version": "3.7.1"
  }
 },
 "nbformat": 4,
 "nbformat_minor": 2
}
