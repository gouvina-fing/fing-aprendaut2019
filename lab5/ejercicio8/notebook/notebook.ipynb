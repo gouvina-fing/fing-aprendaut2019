{
 "cells": [
  {
   "cell_type": "markdown",
   "metadata": {},
   "source": [
    "# Entrega 5.2 - Jugador de Damas Chinas (Q Learning, Redes Neuronales)\n",
    "\n",
    "### Grupo 07:\n",
    "     - Renzo Gambone C.I. 5.155.486-4\n",
    "     - Germán Ouviña C.I. 4.823.566-1\n",
    "     - Leandro Rodríguez C.I 4.691.736-4\n"
   ]
  },
  {
   "cell_type": "markdown",
   "metadata": {},
   "source": [
    "## 1. Introducción\n",
    "***\n",
    "### 1.1. Objetivo\n",
    "***\n",
    "A\n",
    "\n",
    "### 1.2. Entrega\n",
    "***\n",
    "A\n",
    "\n",
    "### 1.3. Formato\n",
    "***\n",
    "A"
   ]
  },
  {
   "cell_type": "markdown",
   "metadata": {},
   "source": [
    "## 2. Diseño\n",
    "***\n",
    "A"
   ]
  },
  {
   "cell_type": "markdown",
   "metadata": {},
   "source": [
    "### 2.1. Juego (*)\n",
    "***\n",
    "A"
   ]
  },
  {
   "cell_type": "markdown",
   "metadata": {},
   "source": [
    "### 2.2. Tablero\n",
    "***\n",
    "A\n",
    "\n",
    "#### 2.2.1. Representación física y lógica (*)\n",
    "***\n",
    "Aca copiar lo de lab1\n",
    "\n",
    "#### 2.2.2. Representación de atributos\n",
    "***\n",
    "Aca hablar de las 9 metricas y 81 celdas"
   ]
  },
  {
   "cell_type": "code",
   "execution_count": null,
   "metadata": {
    "scrolled": false
   },
   "outputs": [],
   "source": [
    "# A continuación se adjunta un script que permite comparar las distintas representaciones del tablero interactivamente, \n",
    "# extrayendo sus atributos y viendo como el mover piezas afecta a los mismos.\n",
    "# Script 1 - Representación del tablero\n",
    "import ntShowBoard"
   ]
  },
  {
   "cell_type": "markdown",
   "metadata": {},
   "source": [
    "### 2.3. Modelo\n",
    "***\n",
    "A\n"
   ]
  },
  {
   "cell_type": "markdown",
   "metadata": {},
   "source": [
    "### 2.4. Algoritmo\n",
    "***\n",
    "A\n",
    "\n",
    "#### 2.4.1. Algoritmo de entrenamiento\n",
    "***\n",
    "Aca hablar de lo que hace sklearn pa entrenar (sgd, back propagation)\n",
    "\n",
    "#### 2.4.2. Algoritmo de clasificación\n",
    "***\n",
    "Acá hablar de lo que hace sklearn pa clasificar (forward coso)\n",
    "\n",
    "#### 2.4.3. Arquitectura\n",
    "***\n",
    "A\n",
    "\n",
    "##### 2.4.3.1. Arquitectura - Capa de entrada\n",
    "***\n",
    "Acá hablar de cantidad de neuronas (9 u 81)\n",
    "\n",
    "##### 2.4.3.2. Arquitectura - Capas ocultas\n",
    "***\n",
    "Acá hablar de cantidad de hidden layers y cantidad de neuronas en cada una\n",
    "\n",
    "##### 2.4.3.3. Arquitectura - Capa de salida\n",
    "***\n",
    "Acá hablar de cantidad de neuronas (1)\n",
    "\n",
    "#### 2.4.4. Parámetros\n",
    "***\n",
    "A\n",
    "\n",
    "##### 2.4.4.1. Parámetros - Función de activación\n",
    "***\n",
    "Acá hablar de ReLU (y sigmoide y tanh, veremos si nos da pa probar)\n",
    "\n",
    "##### 2.4.4.2. Parámetros -  Pesos iniciales\n",
    "***\n",
    "Acá hablar de que MLP genera pesos random (casi seguro)\n",
    "\n",
    "##### 2.4.4.3. Parámetros -  Ratio de aprendizaje y enfriamiento\n",
    "***\n",
    "Acá hablar de ratios constantes y variables y sus valores\n"
   ]
  },
  {
   "cell_type": "markdown",
   "metadata": {},
   "source": [
    "### 2.5. Oponentes\n",
    "***\n",
    "A\n",
    "\n",
    "#### 2.5.1. Jugador aleatorio (*)\n",
    "***\n",
    "A\n",
    "\n",
    "#### 2.5.2. Jugador previo (Red neuronal)\n",
    "***\n",
    "A\n",
    "\n",
    "#### 2.5.3. Jugador entrenado (Función lineal)\n",
    "***\n",
    "A"
   ]
  },
  {
   "cell_type": "markdown",
   "metadata": {},
   "source": [
    "### 2.6. Evaluación\n",
    "***\n",
    "A\n",
    "\n",
    "#### 2.6.1. Métodos\n",
    "***\n",
    "A\n",
    "\n",
    "#### 2.6.2. Métricas\n",
    "***\n",
    "A"
   ]
  },
  {
   "cell_type": "markdown",
   "metadata": {},
   "source": [
    "## 3. Experimentación\n",
    "***\n",
    "A"
   ]
  },
  {
   "cell_type": "markdown",
   "metadata": {},
   "source": [
    "### 3.1. Metodología\n",
    "***\n",
    "A\n",
    "\n",
    "1. **Configuraciones paramétricas:** Entrenar muchas redes distintas y ver como juega cada una. Aplicar las mismas configs pa self y pa random.\n",
    "<br><br>\n",
    "\n",
    "2. **Elección y comparación de representantes:** Analisis cuantitativo (comparar winRate y victoryRate entre redes) y cualitativo (ver como se distribuyen las victorias y el ECM en el tiempo para los mejores). Elegir las mejores 8 self y los mejores 8 random.\n",
    "<br><br>\n",
    "\n",
    "3. **Ponderación de representantes:** Torneoooo entre las mejores 8 anteriores, formato partido de fubol. 3 ganar, 1 empatar, 0 perder. Luego de los 64 partidos se ve quien tuvo mejor puntaje en la tabla. Si hay empates, se hace eliminatoria con los empatantes. Un torneo pa self y uno pa random.\n",
    "<br><br>\n",
    "\n",
    "4. **Comparación con jugador lineal:** El ganador del torneo VS el mejor del lab1\n",
    "<br><br>\n"
   ]
  },
  {
   "cell_type": "markdown",
   "metadata": {},
   "source": [
    "### 3.2. Configuraciones paramétricas\n",
    "***\n",
    "\n",
    "#### 3.2.1. Instancias\n",
    "***\n",
    "A\n",
    "\n",
    "#### 3.2.2. Parámetros\n",
    "***\n",
    "A\n",
    "\n",
    "#### 3.2.3. Resultados\n",
    "***\n",
    "A"
   ]
  },
  {
   "cell_type": "code",
   "execution_count": null,
   "metadata": {},
   "outputs": [],
   "source": [
    "# Script que permite entrenar una red con cierta config y ver sus resultados"
   ]
  },
  {
   "cell_type": "code",
   "execution_count": null,
   "metadata": {},
   "outputs": [],
   "source": [
    "# Script que grafica y muestra tabla sobre resultados de cada configuración paramétrica entrenada por nosotros"
   ]
  },
  {
   "cell_type": "markdown",
   "metadata": {},
   "source": [
    "### 3.3. Elección y comparación de representantes\n",
    "***\n",
    "A\n",
    "\n",
    "#### 3.3.1. Análisis cuantitativo\n",
    "***\n",
    "A\n",
    "\n",
    "#### 3.3.2. Análisis cualitativo\n",
    "***\n",
    "A\n",
    "\n",
    "#### 3.3.3. Representantes\n",
    "***\n",
    "A\n",
    "\n",
    "**Observaciones generales:**\n",
    "- A\n",
    "\n",
    "**Interpretaciones:**\n",
    "- A\n"
   ]
  },
  {
   "cell_type": "markdown",
   "metadata": {},
   "source": [
    "### 3.4. Ponderación de representantes\n",
    "***\n",
    "A"
   ]
  },
  {
   "cell_type": "code",
   "execution_count": null,
   "metadata": {},
   "outputs": [],
   "source": [
    "# Script que permite simular torneo"
   ]
  },
  {
   "cell_type": "code",
   "execution_count": null,
   "metadata": {},
   "outputs": [],
   "source": [
    "# Script que grafica y muestra tabla de resultados de torneo"
   ]
  },
  {
   "cell_type": "markdown",
   "metadata": {},
   "source": [
    "### 3.5. Comparación con jugador lineal\n",
    "***\n",
    "A"
   ]
  },
  {
   "cell_type": "code",
   "execution_count": null,
   "metadata": {},
   "outputs": [],
   "source": [
    "# Script que permite simular partido entre la mejor red y el lineal"
   ]
  },
  {
   "cell_type": "code",
   "execution_count": null,
   "metadata": {},
   "outputs": [],
   "source": [
    "# Script que grafica y muestra tabla de resultados del partido"
   ]
  },
  {
   "cell_type": "markdown",
   "metadata": {},
   "source": [
    "## 4. Conclusiones\n",
    "***\n",
    "\n",
    "#### 4.1. Respecto al Modelo\n",
    "***\n",
    "A\n",
    "\n",
    "#### 4.2. Respecto a los Parámetros\n",
    "***\n",
    "A\n",
    "\n",
    "#### 4.3. Respecto a los Resultados\n",
    "***\n",
    "A\n",
    "\n",
    "#### 4.4. Respecto a los Oponentes\n",
    "***\n",
    "A\n",
    "\n",
    "#### 4.5. Posibles mejoras\n",
    "***\n",
    "A:\n",
    "- A\n",
    "- A"
   ]
  }
 ],
 "metadata": {
  "kernelspec": {
   "display_name": "Python 3",
   "language": "python",
   "name": "python3"
  },
  "language_info": {
   "codemirror_mode": {
    "name": "ipython",
    "version": 3
   },
   "file_extension": ".py",
   "mimetype": "text/x-python",
   "name": "python",
   "nbconvert_exporter": "python",
   "pygments_lexer": "ipython3",
   "version": "3.7.1"
  }
 },
 "nbformat": 4,
 "nbformat_minor": 2
}
